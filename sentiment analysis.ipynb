{
  "cells": [
    {
      "cell_type": "code",
      "execution_count": null,
      "metadata": {
        "ExecuteTime": {
          "end_time": "2021-01-05T21:08:39.722475Z",
          "start_time": "2021-01-05T21:08:32.363175Z"
        },
        "id": "IeEkX_uezvTt",
        "outputId": "498e7402-c409-4816-a890-0314d5be6a2e"
      },
      "outputs": [
        {
          "name": "stderr",
          "output_type": "stream",
          "text": [
            "/opt/anaconda3/envs/learn-env/lib/python3.6/site-packages/sklearn/utils/deprecation.py:143: FutureWarning: The sklearn.metrics.scorer module is  deprecated in version 0.22 and will be removed in version 0.24. The corresponding classes / functions should instead be imported from sklearn.metrics. Anything that cannot be imported from sklearn.metrics is now part of the private API.\n",
            "  warnings.warn(message, FutureWarning)\n",
            "/opt/anaconda3/envs/learn-env/lib/python3.6/site-packages/sklearn/utils/deprecation.py:143: FutureWarning: The sklearn.feature_selection.base module is  deprecated in version 0.22 and will be removed in version 0.24. The corresponding classes / functions should instead be imported from sklearn.feature_selection. Anything that cannot be imported from sklearn.feature_selection is now part of the private API.\n",
            "  warnings.warn(message, FutureWarning)\n"
          ]
        }
      ],
      "source": [
        "# Importing Packages\n",
        "import pandas as pd\n",
        "import numpy as np\n",
        "import matplotlib.pyplot as plt\n",
        "%matplotlib inline\n",
        "import seaborn as sns\n",
        "import os\n",
        "\n",
        "# NLP Packages\n",
        "import nltk \n",
        "from nltk.corpus import stopwords\n",
        "from textblob import TextBlob \n",
        "from textblob import Word\n",
        "import re\n",
        "import string\n",
        "from sklearn.feature_extraction.text import CountVectorizer\n",
        "from sklearn.model_selection import cross_val_score\n",
        "import eli5\n",
        "\n",
        "\n",
        "\n",
        "# WordCloud\n",
        "from wordcloud import WordCloud, STOPWORDS, ImageColorGenerator\n",
        "\n",
        "# Pandas Settings\n",
        "pd.set_option('display.max_columns', 10000)\n",
        "pd.set_option('display.max_rows', 100)\n",
        "\n",
        "# Solve warnings\n",
        "import warnings\n",
        "from sklearn.exceptions import ConvergenceWarning\n",
        "warnings.filterwarnings(\"ignore\", category=DeprecationWarning)\n",
        "warnings.filterwarnings(\"ignore\", category=FutureWarning)\n",
        "warnings.filterwarnings(\"ignore\", category=ConvergenceWarning)"
      ]
    },
    {
      "cell_type": "code",
      "execution_count": null,
      "metadata": {
        "ExecuteTime": {
          "end_time": "2021-01-05T21:08:39.728666Z",
          "start_time": "2021-01-05T21:08:39.724461Z"
        },
        "id": "DYVYA63LzvTv"
      },
      "outputs": [],
      "source": [
        "# Importing all functions used in this notebook\n",
        "from functions import *"
      ]
    },
    {
      "cell_type": "code",
      "execution_count": null,
      "metadata": {
        "ExecuteTime": {
          "end_time": "2021-01-05T21:08:42.806151Z",
          "start_time": "2021-01-05T21:08:39.731757Z"
        },
        "id": "PecuQf5KzvTv"
      },
      "outputs": [],
      "source": [
        "# Import csv file\n",
        "df = pd.read_csv('csv/Hotel_Reviews.csv')"
      ]
    },
    {
      "cell_type": "markdown",
      "metadata": {
        "ExecuteTime": {
          "end_time": "2020-12-17T20:11:26.325878Z",
          "start_time": "2020-12-17T20:11:26.321620Z"
        },
        "id": "ZiokhOOCzvTv"
      },
      "source": [
        "The idea in this step is to take a look at the data. A key points that I want to investigate are:\n",
        "- Shape of the dataset\n",
        "- If there are null values\n",
        "- How many unique hotels and if it matches to the value said in the dataset\n",
        "- The types of data"
      ]
    },
    {
      "cell_type": "code",
      "execution_count": null,
      "metadata": {
        "ExecuteTime": {
          "end_time": "2021-01-05T21:08:42.816370Z",
          "start_time": "2021-01-05T21:08:42.809230Z"
        },
        "id": "u2CoFZMzzvTv",
        "outputId": "5b404c39-5ba6-4861-eee7-e4d91be0cd02"
      },
      "outputs": [
        {
          "data": {
            "text/plain": [
              "(515738, 17)"
            ]
          },
          "execution_count": 4,
          "metadata": {},
          "output_type": "execute_result"
        }
      ],
      "source": [
        "# DataFrame shape\n",
        "df.shape"
      ]
    },
    {
      "cell_type": "markdown",
      "metadata": {
        "id": "T_SHPboUzvTw"
      },
      "source": [
        "Here we can see that the dataset is large. Some models could take way too long to run a train set this size. Thus, in the first part of this project, I will use 20% of the original dataset. Further in the project, I'm planning on testing best model on the entire dataset. Luckily, since the dataset is so large, we can fix any class imbalance here."
      ]
    },
    {
      "cell_type": "code",
      "execution_count": null,
      "metadata": {
        "ExecuteTime": {
          "end_time": "2021-01-05T21:08:42.894524Z",
          "start_time": "2021-01-05T21:08:42.821088Z"
        },
        "id": "Wzk-OVg-zvTw"
      },
      "outputs": [],
      "source": [
        "# Selecting only the columns that I will use\n",
        "features = ['Hotel_Name', 'Negative_Review','Positive_Review', 'Reviewer_Score']\n",
        "df = df[features]"
      ]
    },
    {
      "cell_type": "markdown",
      "metadata": {
        "id": "GPwGkMdRzvTw"
      },
      "source": [
        "For NLP, I want to see how the model performs having the positive reviews together, since that's the way that most people write reviews."
      ]
    },
    {
      "cell_type": "code",
      "execution_count": null,
      "metadata": {
        "ExecuteTime": {
          "end_time": "2021-01-05T21:08:43.275910Z",
          "start_time": "2021-01-05T21:08:42.899670Z"
        },
        "id": "jiqc0eVFzvTw"
      },
      "outputs": [],
      "source": [
        "# Putting reviews together\n",
        "df['Reviews'] = df['Negative_Review'] + df['Positive_Review']"
      ]
    },
    {
      "cell_type": "code",
      "execution_count": null,
      "metadata": {
        "ExecuteTime": {
          "end_time": "2021-01-05T21:08:43.569552Z",
          "start_time": "2021-01-05T21:08:43.282399Z"
        },
        "id": "IhzDuR3xzvTw"
      },
      "outputs": [],
      "source": [
        "# Keep only 20% of the dataframe\n",
        "df = df.sample(frac=0.20, random_state=1)"
      ]
    },
    {
      "cell_type": "code",
      "execution_count": null,
      "metadata": {
        "ExecuteTime": {
          "end_time": "2021-01-05T21:08:43.606198Z",
          "start_time": "2021-01-05T21:08:43.575054Z"
        },
        "id": "WkI2ot9IzvTw",
        "outputId": "04ef15ae-4e0d-4850-8a94-c2e38196b5e1"
      },
      "outputs": [
        {
          "data": {
            "text/plain": [
              "Hotel_Name\n",
              "Britannia International Hotel Canary Wharf           965\n",
              "Strand Palace Hotel                                  900\n",
              "Park Plaza Westminster Bridge London                 846\n",
              "Copthorne Tara Hotel London Kensington               748\n",
              "DoubleTree by Hilton Hotel London Tower of London    641\n",
              "dtype: int64"
            ]
          },
          "execution_count": 8,
          "metadata": {},
          "output_type": "execute_result"
        }
      ],
      "source": [
        "# Checking the hotel with the highest number of reviews\n",
        "df.pivot_table(index=['Hotel_Name'], aggfunc='size').nlargest()"
      ]
    },
    {
      "cell_type": "markdown",
      "metadata": {
        "id": "_wjb4pk8zvTx"
      },
      "source": [
        "We now have only 20% of the dataset. We can see that Britannia International Hotel Canary Wharf is still the hotel with the most reviews, which shows us that pandas sample function really works as expected. I mentioned this in the <a href=\"https://github.com/Ismaeltrevi/hotel-reviews-analysis-using-nlp/blob/main/preprossessing/eda.ipynb\">EDA</a> notebook."
      ]
    },
    {
      "cell_type": "code",
      "execution_count": null,
      "metadata": {
        "ExecuteTime": {
          "end_time": "2021-01-05T21:08:48.705351Z",
          "start_time": "2021-01-05T21:08:43.610600Z"
        },
        "id": "5mYblYJxzvTx"
      },
      "outputs": [],
      "source": [
        "# Applying clean_text_round1 function\n",
        "df['Reviews_Clean'] = pd.DataFrame(df.Reviews.apply(round1))"
      ]
    },
    {
      "cell_type": "markdown",
      "metadata": {
        "id": "7gda_JzLzvTx"
      },
      "source": [
        "Create a binary classification where anything below 6 is negative review and 6 and above is positive."
      ]
    },
    {
      "cell_type": "code",
      "execution_count": null,
      "metadata": {
        "ExecuteTime": {
          "end_time": "2021-01-05T21:08:48.754550Z",
          "start_time": "2021-01-05T21:08:48.707400Z"
        },
        "id": "zEPov9i0zvTx"
      },
      "outputs": [],
      "source": [
        "# Create function that turns the Reviewer Score into a classification target with 3 values\n",
        "df['Score'] = df['Reviewer_Score'].apply(lambda x: 0 if x < 6 else 1)"
      ]
    },
    {
      "cell_type": "markdown",
      "metadata": {
        "id": "XCeZPOMwzvTx"
      },
      "source": [
        "### Class Distribution"
      ]
    },
    {
      "cell_type": "code",
      "execution_count": null,
      "metadata": {
        "ExecuteTime": {
          "end_time": "2021-01-05T21:08:49.003071Z",
          "start_time": "2021-01-05T21:08:48.757184Z"
        },
        "id": "UigPE-GizvTx",
        "outputId": "29568d8c-9401-49be-d0f8-8d91c440415a"
      },
      "outputs": [
        {
          "data": {
            "image/png": "[encoded data removed]",
            "text/plain": [
              "<Figure size 576x396 with 1 Axes>"
            ]
          },
          "metadata": {},
          "output_type": "display_data"
        }
      ],
      "source": [
        "# Checking if the target variable is balanced\n",
        "plt.style.use('seaborn')\n",
        "sns.countplot(df['Score'])\n",
        "plt.title('Class Distribution', fontsize=20)\n",
        "plt.xlabel('Target Variable', fontsize=16)\n",
        "plt.ylabel('Number of Reviews', fontsize=16)\n",
        "plt.xticks(fontsize=14)\n",
        "plt.yticks(fontsize=14)\n",
        "plt.show()"
      ]
    },
    {
      "cell_type": "markdown",
      "metadata": {
        "id": "xqQ1VIilzvTx"
      },
      "source": [
        "We can see that there is a big class imbalance. Since our dataset is large, we can fix this using the pandas sample function. Thus, I will only use 12% of the positive reviews for this stage, which will get closer to the number of negative reviews, so it will get closer to the number of negative reviews.\n",
        "\n",
        "The reason why I removed the preprocessing manually is to make the spell checker faster, since it takes more than 24 hours to check 100k. As a next step, I will keep the class imbalance for the modeling stage."
      ]
    },
    {
      "cell_type": "code",
      "execution_count": null,
      "metadata": {
        "ExecuteTime": {
          "end_time": "2021-01-05T21:08:49.134921Z",
          "start_time": "2021-01-05T21:08:49.008282Z"
        },
        "id": "VQZlVMzyzvTx"
      },
      "outputs": [],
      "source": [
        "# Creating separate dataframes depending on the classification\n",
        "df_Score_0 = df[df.Score == 0]\n",
        "df_Score_1 = df[df.Score == 1].sample(frac=0.12)"
      ]
    },
    {
      "cell_type": "code",
      "execution_count": null,
      "metadata": {
        "ExecuteTime": {
          "end_time": "2021-01-05T21:08:49.278018Z",
          "start_time": "2021-01-05T21:08:49.138634Z"
        },
        "id": "JNN4KarCzvTy",
        "outputId": "aaca668c-0dfe-461f-9890-2c783fbf3b51"
      },
      "outputs": [
        {
          "data": {
            "text/plain": [
              "(21620, 7)"
            ]
          },
          "execution_count": 13,
          "metadata": {},
          "output_type": "execute_result"
        }
      ],
      "source": [
        "# Concatenating th \n",
        "df = pd.concat([df_Score_1, df_Score_0])\n",
        "df.shape"
      ]
    },
    {
      "cell_type": "code",
      "execution_count": null,
      "metadata": {
        "ExecuteTime": {
          "end_time": "2021-01-05T21:08:49.613260Z",
          "start_time": "2021-01-05T21:08:49.287568Z"
        },
        "id": "7b3nNvdHzvTy",
        "outputId": "a65ca78f-7dad-4cd0-8f0d-fe6ba12ed5be"
      },
      "outputs": [
        {
          "data": {
            "image/png": "[encoded data removed]",
            "text/plain": [
              "<Figure size 576x396 with 1 Axes>"
            ]
          },
          "metadata": {},
          "output_type": "display_data"
        }
      ],
      "source": [
        "# Checking if the target variable is balanced\n",
        "sns.countplot(df['Score'])\n",
        "plt.title('Class Distribution', fontsize=20)\n",
        "plt.xlabel('Target Variable', fontsize=16)\n",
        "plt.ylabel('Number of Reviews', fontsize=16)\n",
        "plt.xticks(fontsize=14)\n",
        "plt.yticks(fontsize=14)\n",
        "plt.show()"
      ]
    },
    {
      "cell_type": "markdown",
      "metadata": {
        "id": "DVoX-y9-zvTy"
      },
      "source": [
        "We can see above that the class distribution problem was solved."
      ]
    },
    {
      "cell_type": "markdown",
      "metadata": {
        "id": "ulUgf4GtzvTy"
      },
      "source": [
        "### Spell Checker"
      ]
    },
    {
      "cell_type": "markdown",
      "metadata": {
        "id": "PBQwnEPDzvTy"
      },
      "source": [
        "Let's fix any spelling mistakes in the review using TextBlob. But first, let's take a look at how many unique words we have."
      ]
    },
    {
      "cell_type": "code",
      "execution_count": null,
      "metadata": {
        "ExecuteTime": {
          "end_time": "2021-01-05T21:08:49.623191Z",
          "start_time": "2021-01-05T21:08:49.616658Z"
        },
        "id": "0mP0p_IgzvTy"
      },
      "outputs": [],
      "source": [
        "# Setting stop words\n",
        "stop_words = stopwords.words('english')"
      ]
    },
    {
      "cell_type": "code",
      "execution_count": null,
      "metadata": {
        "ExecuteTime": {
          "end_time": "2021-01-05T21:08:50.454884Z",
          "start_time": "2021-01-05T21:08:49.625997Z"
        },
        "id": "g0g7MIgbzvTy",
        "outputId": "e9cb9636-0b44-470c-af39-4486d2fd3166"
      },
      "outputs": [
        {
          "data": {
            "text/plain": [
              "(21620, 17695)"
            ]
          },
          "execution_count": 16,
          "metadata": {},
          "output_type": "execute_result"
        }
      ],
      "source": [
        "# Instantiate CountVectorizer\n",
        "cv = CountVectorizer(stop_words=stop_words)\n",
        "\n",
        "# Fit and transform dataframe without data cleaning\n",
        "df_cv = cv.fit_transform(df['Reviews_Clean'])\n",
        "df_cv.shape"
      ]
    },
    {
      "cell_type": "markdown",
      "metadata": {
        "id": "NPmCo1UJzvTy"
      },
      "source": [
        "We can see that we have 17,855 words. Let's see if we can reduce this number after using the spell checker with TextBlob."
      ]
    },
    {
      "cell_type": "markdown",
      "metadata": {
        "id": "lFTaqUHSzvTy"
      },
      "source": [
        "<b>IMPORTANT NOTE:</b>\n",
        "\n",
        "The cell below exports the dataset with the spelling checked. If you export it without running the Spell Checker, all the models won't have the target correctly set up. Thus, I don't recommend exporting that cell.\n",
        "\n",
        "⏳ The cell below takes around 1h 20m to run. Uncomment it to run."
      ]
    },
    {
      "cell_type": "code",
      "execution_count": null,
      "metadata": {
        "ExecuteTime": {
          "end_time": "2021-01-05T21:08:50.461097Z",
          "start_time": "2021-01-05T21:08:50.457440Z"
        },
        "id": "IjagUWQEzvTz"
      },
      "outputs": [],
      "source": [
        "# # Checking if function works\n",
        "# df['Spell_Checked'] = df['Reviews_Clean'].apply(lambda x: ''.join(TextBlob(x).correct()))\n",
        "\n",
        "# 1h 21m to run"
      ]
    },
    {
      "cell_type": "code",
      "execution_count": null,
      "metadata": {
        "ExecuteTime": {
          "end_time": "2021-01-05T21:08:50.731071Z",
          "start_time": "2021-01-05T21:08:50.463333Z"
        },
        "id": "is6_wzH9zvTz"
      },
      "outputs": [],
      "source": [
        "# Importing the dataset with the spelling checked\n",
        "df = pd.read_csv('csv/Hotel_Review_Spell_Checked.csv', index_col=0)"
      ]
    },
    {
      "cell_type": "markdown",
      "metadata": {
        "id": "lvMvyxXVzvTz"
      },
      "source": [
        "Let's now use count vectorizer to count how unique many words we have left."
      ]
    },
    {
      "cell_type": "code",
      "execution_count": null,
      "metadata": {
        "ExecuteTime": {
          "end_time": "2021-01-05T21:08:51.750715Z",
          "start_time": "2021-01-05T21:08:50.733490Z"
        },
        "id": "I_YnEu52zvTz",
        "outputId": "f171e763-a3bc-4961-9d73-d9afc4fe0eaf"
      },
      "outputs": [
        {
          "data": {
            "text/plain": [
              "(21619, 11930)"
            ]
          },
          "execution_count": 19,
          "metadata": {},
          "output_type": "execute_result"
        }
      ],
      "source": [
        "# Fit and transform dataframe without data cleaning to check how many unique words we have\n",
        "df_cv = cv.fit_transform(df['Spell_Checked'])\n",
        "df_cv.index = df.index\n",
        "df_cv.shape"
      ]
    },
    {
      "cell_type": "markdown",
      "metadata": {
        "id": "uPl_3qPazvTz"
      },
      "source": [
        "Done! We reduced our dataset from 17,836 words to 11,930 words. This will speed up the model iterations and avoid the curse of dimemntionality."
      ]
    },
    {
      "cell_type": "markdown",
      "metadata": {
        "id": "qqUyubiNzvTz"
      },
      "source": [
        "## Exploratory Data Analysis"
      ]
    },
    {
      "cell_type": "markdown",
      "metadata": {
        "id": "vs12TLoNzvTz"
      },
      "source": [
        "<b>IMPORTANT NOTE:</b> EDA and visualizations use multiple lines of code. To keep this notebook clean, I will only add the images here. All of the following images are in the EDA notebook. \n",
        "<b>If you are interested in checking the process, please check the <a href=\"https://github.com/Ismaeltrevi/hotel-reviews-analysis-using-nlp/blob/main/preprossessing/eda.ipynb\">EDA notebook clicking here</a></b>.\n",
        "\n",
        "Now, let's go back to the EDA."
      ]
    },
    {
      "cell_type": "markdown",
      "metadata": {
        "id": "c_WImdL6zvTz"
      },
      "source": [
        "I wanted a few answer from the dataset and check if I could find any patterns. Thus, I had questions, which I will answer right next:\n",
        "\n",
        "#### What nationalities give the highest number of reviews?"
      ]
    },
    {
      "cell_type": "markdown",
      "metadata": {
        "id": "aci1Ivv0zvTz"
      },
      "source": [
        "<img src=\"https://github.com/ismael-araujo/Hotel-Reviews-Analysis-Using-NLP/blob/main/images/nationality.png?raw=1\">"
      ]
    },
    {
      "cell_type": "markdown",
      "metadata": {
        "id": "Njn32S7azvTz"
      },
      "source": [
        "Reviewers from the United Kingdom have the highest number of reviews left. To understand the main reason behind this, I checked where the hotels with the highest reviews are located. In the next image we can understand two things:\n",
        "\n",
        "- The hotels are located in only 6 countries only, not the whole Europe, as I previously thought.\n",
        "- The reviewers are mostly from the UK (over 50%), which explain the higher number of people from the UK giving reviews."
      ]
    },
    {
      "cell_type": "markdown",
      "metadata": {
        "id": "M8X9jjFfzvTz"
      },
      "source": [
        "<img src=\"https://github.com/ismael-araujo/Hotel-Reviews-Analysis-Using-NLP/blob/main/images/countries-hotels.png?raw=1\">"
      ]
    },
    {
      "cell_type": "markdown",
      "metadata": {
        "id": "x9MNhAcpzvTz"
      },
      "source": [
        "#### How does the hotel which I will focus on perform compared to other hotels in London?"
      ]
    },
    {
      "cell_type": "markdown",
      "metadata": {
        "id": "dKkniwXuzvT0"
      },
      "source": [
        "<img src=\"https://github.com/ismael-araujo/Hotel-Reviews-Analysis-Using-NLP/blob/main/images/score-density-hotel-vs-london.png?raw=1\">"
      ]
    },
    {
      "cell_type": "markdown",
      "metadata": {
        "id": "4vFXLH2GzvT0"
      },
      "source": [
        "If you are interested in more EDA, please take a look at the <a href=\"https://github.com/Ismaeltrevi/hotel-reviews-analysis-using-nlp/blob/main/preprossessing/eda.ipynb\">EDA</a> notebook."
      ]
    },
    {
      "cell_type": "markdown",
      "metadata": {
        "id": "SjR4uqm7zvT0"
      },
      "source": [
        "### Sentiment Analysis"
      ]
    },
    {
      "cell_type": "markdown",
      "metadata": {
        "id": "TDoUS1ymzvT0"
      },
      "source": [
        "In this step we will create a sentiment analysis and compare the performance the actual score that users give. I want to visualize if the sentiment analysis can do a better job analysing when a review is negative or positive. "
      ]
    },
    {
      "cell_type": "markdown",
      "metadata": {
        "id": "JOq3cpyUzvT0"
      },
      "source": [
        "In this step we will create a sentiment analysis and compare the performance the actual score that users give. I want to visualize if the sentiment analysis can do a better job analysing when a review is negative or positive. "
      ]
    },
    {
      "cell_type": "code",
      "execution_count": null,
      "metadata": {
        "ExecuteTime": {
          "end_time": "2021-01-05T21:08:55.201305Z",
          "start_time": "2021-01-05T21:08:51.753627Z"
        },
        "id": "nA34hfIfzvT0"
      },
      "outputs": [],
      "source": [
        "# Import csv file\n",
        "df = pd.read_csv('csv/Hotel_Reviews.csv')"
      ]
    },
    {
      "cell_type": "code",
      "execution_count": null,
      "metadata": {
        "ExecuteTime": {
          "end_time": "2021-01-05T21:08:55.264095Z",
          "start_time": "2021-01-05T21:08:55.203376Z"
        },
        "id": "7v_PLlUgzvT0"
      },
      "outputs": [],
      "source": [
        "# Selecting only the columns that I will use\n",
        "features = ['Negative_Review','Positive_Review', 'Reviewer_Score']\n",
        "df = df[features]"
      ]
    },
    {
      "cell_type": "markdown",
      "metadata": {
        "id": "E9UeZUeEzvT1"
      },
      "source": [
        "<b>NOTE:</b>\n",
        "\n",
        "The following cell takes around 10 minutes to run. For this reason, I will  upload the dataframe with the sentiment analysis already in it. If you want to run it, please uncomment the cell."
      ]
    },
    {
      "cell_type": "code",
      "execution_count": null,
      "metadata": {
        "ExecuteTime": {
          "end_time": "2021-01-05T21:08:55.269692Z",
          "start_time": "2021-01-05T21:08:55.266719Z"
        },
        "id": "i3XEaTXHzvT1"
      },
      "outputs": [],
      "source": [
        "# # Create new columns to compare polarity and subjetivity on Negative Reviews\n",
        "# df['Polarity_Net'] = df['Negative_Review'].apply(getPolarity)\n",
        "# df['Polarity_Pos'] = df['Positive_Review'].apply(getPolarity)"
      ]
    },
    {
      "cell_type": "code",
      "execution_count": null,
      "metadata": {
        "ExecuteTime": {
          "end_time": "2021-01-05T21:08:59.380046Z",
          "start_time": "2021-01-05T21:08:55.278030Z"
        },
        "id": "WXKSawlNzvT1"
      },
      "outputs": [],
      "source": [
        "# Importing DataFrame with new Polarity column\n",
        "df = pd.read_csv(\"csv/df_sentiment_analysis.csv\", index_col=0)"
      ]
    },
    {
      "cell_type": "code",
      "execution_count": null,
      "metadata": {
        "ExecuteTime": {
          "end_time": "2021-01-05T21:08:59.815161Z",
          "start_time": "2021-01-05T21:08:59.384279Z"
        },
        "id": "iNXrUnrpzvT1"
      },
      "outputs": [],
      "source": [
        "# Creating function to classify the Sentiment Analysis\n",
        "df['Sent_Analysis_Neg'] = df['Polarity_Net'].apply(lambda x: 0 if x < 0 else 1 if x > -0.1 and x < 0.1 else 2)\n",
        "df['Sent_Analysis_Pos'] = df['Polarity_Pos'].apply(lambda x: 0 if x < 0 else 1 if x > -0.1 and x < 0.1 else 2)"
      ]
    },
    {
      "cell_type": "code",
      "execution_count": null,
      "metadata": {
        "ExecuteTime": {
          "end_time": "2021-01-05T21:09:00.011041Z",
          "start_time": "2021-01-05T21:08:59.817881Z"
        },
        "id": "-aUkNcKlzvT1"
      },
      "outputs": [],
      "source": [
        "# Create a score column\n",
        "df['Score'] = df['Reviewer_Score'].apply(lambda x: 0 if x < 6 else 1)## Evaluation Results"
      ]
    },
    {
      "cell_type": "markdown",
      "metadata": {
        "id": "vvrvy9KRzvT1"
      },
      "source": [
        "## Evaluation Results"
      ]
    },
    {
      "cell_type": "code",
      "execution_count": null,
      "metadata": {
        "ExecuteTime": {
          "end_time": "2021-01-05T21:09:04.474423Z",
          "start_time": "2021-01-05T21:09:00.013882Z"
        },
        "id": "zQSLS7hhzvT1",
        "outputId": "de1efa67-5e2d-4ea1-c484-0d0f5799165e"
      },
      "outputs": [
        {
          "data": {
            "image/png": "[encoded data removed]",
            "text/plain": [
              "<Figure size 864x576 with 1 Axes>"
            ]
          },
          "metadata": {},
          "output_type": "display_data"
        }
      ],
      "source": [
        "# Creating density plot for the labels polaritu scores\n",
        "plt.figure(figsize=(12, 8))\n",
        "ax = sns.distplot(df['Polarity_Net'][df['Score'] == 0], label='Negative Reviews', color='blue')\n",
        "ax = sns.distplot(df['Polarity_Pos'][df['Score'] == 1], label='Positite Reviews', color='green')\n",
        "\n",
        "# Setting label, title and legend\n",
        "ax.set_title('Review Polarity', fontsize=22)\n",
        "ax.set_ylabel('Density', fontsize=20)\n",
        "ax.set_xlabel('Polarity Score', fontsize=20)\n",
        "plt.xticks(fontsize=16)\n",
        "plt.yticks(fontsize=16)\n",
        "ax.legend(prop=dict(size=16))\n",
        "plt.savefig('images/sentiment_analysis.png', bbox_inches = \"tight\", pad_inches=.5, dpi=300)\n",
        "plt.show()"
      ]
    },
    {
      "cell_type": "markdown",
      "metadata": {
        "id": "Ci6kNkx1zvT1"
      },
      "source": [
        "The graph above shows that the sentiment analysis does a good job identifying positive reviews with a positive polarity. However, it does not perform as well with the negative reviews. We can see that there is a big number of neutral reviews where sentiment analysis couldn't understand if the review was positive or negative."
      ]
    },
    {
      "cell_type": "markdown",
      "metadata": {
        "id": "7nFg_hGyzvT1"
      },
      "source": [
        "### Findings and Takeaways:"
      ]
    },
    {
      "cell_type": "markdown",
      "metadata": {
        "id": "H6KoWbXAzvT1"
      },
      "source": [
        "- It was created Subjectivity and Polarity features using sentiment analysis for Negative and Positive Reviews. \n",
        "- Polarity ranges between -1 and 1. Where -1 means that the review was very negative and 1 means that the review was very positive\n",
        "- Seems like sentiment analysis does a good job identifying positive reviews, but the negative reviews could be improved\n",
        "\n",
        "Using the density plot to analyze the sentiment analysis, we can see that most are concentrated in the neutral reviews. We know from the EDA that most reviews are mostly positive. Also we can see that it identifies correctly the positive reviews with higher precision, but it doesn't perform as well for the negative reviews."
      ]
    },
    {
      "cell_type": "markdown",
      "metadata": {
        "id": "agP9XNO6zvT1"
      },
      "source": [
        "# Modeling"
      ]
    },
    {
      "cell_type": "markdown",
      "metadata": {
        "ExecuteTime": {
          "end_time": "2020-12-24T16:52:43.635312Z",
          "start_time": "2020-12-24T16:52:43.630238Z"
        },
        "id": "8I9Nc7QdzvT2"
      },
      "source": [
        "For the modeling, I started with the vanilla models. I had four models in mind that I believe would potentially perform the best results for NLP. Then, I test ensemble models to improve the performance of the best vanilla models. Let's see the results.\n",
        "\n",
        "You can see all the process in the <a href=\"https://github.com/Ismaeltrevi/hotel-reviews-analysis-using-nlp/blob/main/models/baseline-models.ipynb\">vanilla models</a> notebook and in the <a href=\"https://github.com/Ismaeltrevi/hotel-reviews-analysis-using-nlp/blob/main/models/ensemble-models.ipynb\">ensemble models</a> notebook.\n",
        "    \n",
        "    \n",
        "    "
      ]
    },
    {
      "cell_type": "code",
      "execution_count": null,
      "metadata": {
        "ExecuteTime": {
          "end_time": "2021-01-05T21:09:04.765752Z",
          "start_time": "2021-01-05T21:09:04.477115Z"
        },
        "id": "H5L_1HprzvT2"
      },
      "outputs": [],
      "source": [
        "# Sklearn Packages\n",
        "from sklearn import metrics\n",
        "from sklearn.feature_extraction.text import CountVectorizer\n",
        "from sklearn.feature_extraction import text \n",
        "from sklearn.ensemble import RandomForestClassifier\n",
        "from sklearn.metrics import accuracy_score, precision_score, recall_score, f1_score, confusion_matrix, plot_confusion_matrix, roc_curve, auc, classification_report\n",
        "from sklearn.model_selection import train_test_split\n",
        "from sklearn.linear_model import LogisticRegression\n",
        "from sklearn.feature_extraction.text import TfidfVectorizer\n",
        "from sklearn.naive_bayes import GaussianNB\n",
        "from sklearn.model_selection import GridSearchCV\n",
        "from sklearn.exceptions import ConvergenceWarning\n",
        "from sklearn.utils import resample\n",
        "from sklearn.ensemble import BaggingClassifier\n",
        "from imblearn.over_sampling import SMOTE\n",
        "from sklearn.naive_bayes import MultinomialNB\n",
        "from sklearn.svm import SVC\n",
        "from IPython.core.display import display, HTML\n",
        "\n",
        "# Import pickle\n",
        "import pickle"
      ]
    },
    {
      "cell_type": "markdown",
      "metadata": {
        "id": "xfNui-v-zvT2"
      },
      "source": [
        "## Preprocessing"
      ]
    },
    {
      "cell_type": "code",
      "execution_count": null,
      "metadata": {
        "ExecuteTime": {
          "end_time": "2021-01-05T21:09:05.127799Z",
          "start_time": "2021-01-05T21:09:04.769824Z"
        },
        "id": "nEC4wWzDzvT2"
      },
      "outputs": [],
      "source": [
        "df = pd.read_csv(\"csv/Hotel_Review_Spell_Checked.csv\", index_col=0)"
      ]
    },
    {
      "cell_type": "code",
      "execution_count": null,
      "metadata": {
        "ExecuteTime": {
          "end_time": "2021-01-05T21:09:05.134430Z",
          "start_time": "2021-01-05T21:09:05.130676Z"
        },
        "id": "l71O3W-ezvT2"
      },
      "outputs": [],
      "source": [
        "# Creating an X variable and y for my target\n",
        "X = df.Spell_Checked\n",
        "y = df.Score"
      ]
    },
    {
      "cell_type": "markdown",
      "metadata": {
        "id": "K7V7RAgkzvT2"
      },
      "source": [
        "### Train Test Split"
      ]
    },
    {
      "cell_type": "markdown",
      "metadata": {
        "id": "O_k3R9r3zvT2"
      },
      "source": [
        "As mentioned in the introduction, I will use the column `Spell_Checked` to create the features and `Score` as my target. Since the model iterations had different results with different vectorizers, I will also pickle the train and test sets as they were in the original notebook."
      ]
    },
    {
      "cell_type": "code",
      "execution_count": null,
      "metadata": {
        "ExecuteTime": {
          "end_time": "2021-01-05T21:09:05.149956Z",
          "start_time": "2021-01-05T21:09:05.138520Z"
        },
        "id": "PM4odGa7zvT2"
      },
      "outputs": [],
      "source": [
        "# Splitting the dataset in train set and test set\n",
        "X_train, X_test, y_train, y_test = train_test_split(X, y, test_size=0.25, random_state=1)"
      ]
    },
    {
      "cell_type": "code",
      "execution_count": null,
      "metadata": {
        "ExecuteTime": {
          "end_time": "2021-01-05T21:09:06.317926Z",
          "start_time": "2021-01-05T21:09:05.153439Z"
        },
        "id": "vcZvp-6LzvT2"
      },
      "outputs": [],
      "source": [
        "# Instantiate TF-IDF Vectorizer\n",
        "tfidf = TfidfVectorizer(stop_words=stop_words)\n",
        "\n",
        "# Fitting into the train and test set\n",
        "X_train = tfidf.fit_transform(X_train)\n",
        "X_test = tfidf.transform(X_test)"
      ]
    },
    {
      "cell_type": "markdown",
      "metadata": {
        "id": "HBgl9xrQzvT2"
      },
      "source": [
        "### Evaluation Metric"
      ]
    },
    {
      "cell_type": "markdown",
      "metadata": {
        "id": "JlXJ2Gd0zvT2"
      },
      "source": [
        "The evaluation metric below will simplify the model evaluation. My main focus is the accuracy metric. Have an accurate is important to be accurate. However, although fixing False Negatives is not crucial, I will also take a look at Recall and F1-Score to understand how my model is working. Since it is not my main focus, I will not mentioned in the individual analysis on my models."
      ]
    },
    {
      "cell_type": "markdown",
      "metadata": {
        "id": "S1W-l4NCzvT2"
      },
      "source": [
        "## Vanilla Models\n",
        "\n",
        "For the modeling process, I chose multiple models, testing them with different vectorizers in different stages of data cleaning. For the baseline models, I ran Logistic Regression, Random Forest, Naive Bayes, and Support Vector Machine.\n",
        "\n",
        "I ran the models with the CountVectorizer and TF-IDF vectorizers to compared which one would have the best performance. I also tried these models with and without lemmatization. I did not include other features such as the name of the hotel or location because the main objective is to train a model using the reviews only.\n",
        "\n",
        "The Vanilla Models performed fairly well since the beggining with an accuracy of 0.7981. The time I spent cleaning the data paid off. The best performing model was a SVM model with the accuracy score of 0.8233 and F1 Score of 0.8205 using the RBF kernel. However, SVM models using RBF kernel don't allow feature importance retrieve. I tried running a SVM model using linear kernel, but the performance was poor compared to the RBF. \n",
        "\n",
        "\n",
        "Thus, Random Forest with lemmatized words was the winner between the vanilla models. You can see all the models I ran in the <a href=\"https://github.com/Ismaeltrevi/hotel-reviews-analysis-using-nlp/blob/main/models/baseline-models.ipynb\">vanilla models</a> notebook."
      ]
    },
    {
      "cell_type": "markdown",
      "metadata": {
        "id": "6ZQhUeRBzvT2"
      },
      "source": [
        "### Best Vanilla Model using CountVectorizer \n",
        "\n",
        "As I mentioned, I tried different vectorizer to check which one would have the best performance. Although Random Forest had a better performance than Logistic Regression, my focus on this stage is to find out the most important features. Thus, the best performing mode was Logistic Regression, which was also the first model I tried. Let's see the results."
      ]
    },
    {
      "cell_type": "code",
      "execution_count": null,
      "metadata": {
        "ExecuteTime": {
          "end_time": "2021-01-05T21:09:09.173492Z",
          "start_time": "2021-01-05T21:09:06.320610Z"
        },
        "id": "fktq_D6ozvT2",
        "outputId": "d5db9fcb-7229-4952-914a-2ee1943c3c0e"
      },
      "outputs": [
        {
          "name": "stdout",
          "output_type": "stream",
          "text": [
            "Evaluation Metrics:\n",
            "Accuracy: 0.798149861239593\n",
            "Precision: 0.8104575163398693\n",
            "Recall: 0.7968582649053909\n",
            "F1 Score: 0.8036003600360035\n",
            "\n",
            "Cross-Validation Accuracy Scores: [0.80758557 0.80049337 0.80080173 0.80727721 0.81431215]\n",
            "\n",
            "Min:  0.800493\n",
            "Max:  0.814312\n",
            "Mean:  0.806094\n",
            "Range:  0.013819\n"
          ]
        }
      ],
      "source": [
        "# Importing train and test set using CountVectorizer\n",
        "X_train_cv = pickle.load(open('pickle/X_train_cv.pkl', 'rb'))\n",
        "X_test_cv = pickle.load(open('pickle/X_test_cv.pkl', 'rb'))\n",
        "y_train_cv = pd.read_pickle('pickle/y_train.pkl')\n",
        "y_test_cv = pd.read_pickle('pickle/y_test.pkl')\n",
        "\n",
        "# Importing best model\n",
        "lr_cv = pickle.load(open('pickle/lg_cv.pickle','rb'))\n",
        "y_pred_lr_cv = lr_cv.predict(X_test_cv)\n",
        "\n",
        "# Logistic Regression baseline evaluation\n",
        "evaluation(y_test, y_pred_lr_cv)\n",
        "print()\n",
        "cross_validation(lr_cv, X_train_cv, y_train_cv, 5)"
      ]
    },
    {
      "cell_type": "code",
      "execution_count": null,
      "metadata": {
        "ExecuteTime": {
          "end_time": "2021-01-05T21:09:09.413846Z",
          "start_time": "2021-01-05T21:09:09.176133Z"
        },
        "id": "qDcDxMHIzvT3",
        "outputId": "b283dde1-c3f9-4418-bf7d-12cb6d4f5f34"
      },
      "outputs": [
        {
          "data": {
            "image/png": "[encoded data removed]",
            "text/plain": [
              "<Figure size 432x504 with 1 Axes>"
            ]
          },
          "metadata": {},
          "output_type": "display_data"
        }
      ],
      "source": [
        "# Plotting a confusion matrix\n",
        "plt.figure(figsize=(6, 7))\n",
        "mat = confusion_matrix(y_test, y_pred_lr_cv)\n",
        "\n",
        "sns.heatmap(mat.T, square=True, annot=True, fmt='d', cbar=False,\n",
        "            xticklabels=['Negative', 'Positive'], yticklabels=['Negative', 'Positive'], cmap=\"Blues\")\n",
        "sns.set(font_scale=3.0)\n",
        "plt.xlabel('True Label', fontsize= 20)\n",
        "plt.ylabel('Predicted Label', fontsize= 20)\n",
        "plt.title('Baseline Logistic Regression Confusion Matrix', fontsize=20)\n",
        "plt.xticks(fontsize=18)\n",
        "plt.yticks(fontsize=18)\n",
        "plt.show()"
      ]
    },
    {
      "cell_type": "markdown",
      "metadata": {
        "id": "-tu5OVNpzvT3"
      },
      "source": [
        "The result are quite good for the first model. I checked cross validation to confirm that there is not underfitting or overfitting in the train set and the results were quite similar to the test set. Looking at the confusion matrix, we can see that the model classifies correctly 75% of both Negative and Positive reviews. A Random Forest model had a better accuracy than Logistic Regression. However, it had a lower F1 Score, which is the metric that I will be focusing further in the project. For this reason, I chose Logistic Regression as my best model. You can see below the performance of every model."
      ]
    },
    {
      "cell_type": "code",
      "execution_count": null,
      "metadata": {
        "ExecuteTime": {
          "end_time": "2021-01-05T21:09:09.482411Z",
          "start_time": "2021-01-05T21:09:09.417212Z"
        },
        "scrolled": true,
        "id": "1vhAujZxzvT3",
        "outputId": "af2caebb-5676-424e-daea-d7e4c61e1b62"
      },
      "outputs": [
        {
          "data": {
            "text/html": [
              "<div>\n",
              "<style scoped>\n",
              "    .dataframe tbody tr th:only-of-type {\n",
              "        vertical-align: middle;\n",
              "    }\n",
              "\n",
              "    .dataframe tbody tr th {\n",
              "        vertical-align: top;\n",
              "    }\n",
              "\n",
              "    .dataframe thead th {\n",
              "        text-align: right;\n",
              "    }\n",
              "</style>\n",
              "<table border=\"1\" class=\"dataframe\">\n",
              "  <thead>\n",
              "    <tr style=\"text-align: right;\">\n",
              "      <th></th>\n",
              "      <th>Accuracy</th>\n",
              "      <th>Precision</th>\n",
              "      <th>Recall</th>\n",
              "      <th>F1 Score</th>\n",
              "    </tr>\n",
              "  </thead>\n",
              "  <tbody>\n",
              "    <tr>\n",
              "      <th>Vanilla Random Forest CV</th>\n",
              "      <td>0.800370</td>\n",
              "      <td>0.837118</td>\n",
              "      <td>0.763299</td>\n",
              "      <td>0.798506</td>\n",
              "    </tr>\n",
              "    <tr>\n",
              "      <th>Vanilla Logisitic Regression CV</th>\n",
              "      <td>0.798150</td>\n",
              "      <td>0.810458</td>\n",
              "      <td>0.796858</td>\n",
              "      <td>0.803600</td>\n",
              "    </tr>\n",
              "    <tr>\n",
              "      <th>Vanilla SVC CV</th>\n",
              "      <td>0.783904</td>\n",
              "      <td>0.794234</td>\n",
              "      <td>0.786862</td>\n",
              "      <td>0.790531</td>\n",
              "    </tr>\n",
              "    <tr>\n",
              "      <th>Vanilla Naive Bayes CV</th>\n",
              "      <td>0.781129</td>\n",
              "      <td>0.793541</td>\n",
              "      <td>0.780793</td>\n",
              "      <td>0.787115</td>\n",
              "    </tr>\n",
              "  </tbody>\n",
              "</table>\n",
              "</div>"
            ],
            "text/plain": [
              "                                 Accuracy  Precision    Recall  F1 Score\n",
              "Vanilla Random Forest CV         0.800370   0.837118  0.763299  0.798506\n",
              "Vanilla Logisitic Regression CV  0.798150   0.810458  0.796858  0.803600\n",
              "Vanilla SVC CV                   0.783904   0.794234  0.786862  0.790531\n",
              "Vanilla Naive Bayes CV           0.781129   0.793541  0.780793  0.787115"
            ]
          },
          "execution_count": 34,
          "metadata": {},
          "output_type": "execute_result"
        }
      ],
      "source": [
        "vanilla_models = pd.read_csv('csv/baseline-models_cv.csv', index_col=0)\n",
        "vanilla_models.sort_values(by='Accuracy', ascending=False)"
      ]
    },
    {
      "cell_type": "markdown",
      "metadata": {
        "id": "TFXIlPAYzvT3"
      },
      "source": [
        "### Best Vanilla Model using TF-IDF Vectorizer\n",
        "\n",
        "As I mentioned, I tried different TF-IDF Vectorizer as well. The best performing model was a Logistic Regression as well. Let's see the results."
      ]
    },
    {
      "cell_type": "code",
      "execution_count": null,
      "metadata": {
        "ExecuteTime": {
          "end_time": "2021-01-05T21:09:15.344467Z",
          "start_time": "2021-01-05T21:09:09.485138Z"
        },
        "id": "ZW0wKN3NzvT3"
      },
      "outputs": [],
      "source": [
        "# Importing train and test set using CountVectorizer\n",
        "X_train_tfidf = pickle.load(open('pickle/X_train_tfidf.pkl', 'rb'))\n",
        "X_test_tfidf = pickle.load(open('pickle/X_test_tfidf.pkl', 'rb'))\n",
        "y_train_tfidf = pd.read_pickle('pickle/y_train.pkl')\n",
        "y_test_tfidf = pd.read_pickle('pickle/y_test.pkl')\n",
        "\n",
        "# Instantiating baseline Logistic Regression Model\n",
        "lg_tfidf = LogisticRegression()\n",
        "\n",
        "# Fitting the model to the X and y variables of the train set\n",
        "lg_tfidf.fit(X_train_tfidf, y_train) \n",
        "\n",
        "# Predicting the model in the X variable of the test set\n",
        "y_lg_base_tfidf = lg_tfidf.predict(X_test_tfidf)"
      ]
    },
    {
      "cell_type": "code",
      "execution_count": null,
      "metadata": {
        "ExecuteTime": {
          "end_time": "2021-01-05T21:10:05.779474Z",
          "start_time": "2021-01-05T21:09:15.347056Z"
        },
        "scrolled": true,
        "id": "mYHJLLt8zvT3",
        "outputId": "b06284aa-6370-45dc-8ba2-42800a738dc0"
      },
      "outputs": [
        {
          "name": "stdout",
          "output_type": "stream",
          "text": [
            "Evaluation Metrics:\n",
            "Accuracy: 0.8170212765957446\n",
            "Precision: 0.8481936971560338\n",
            "Recall: 0.7879328811138879\n",
            "F1 Score: 0.8169535443272257\n",
            "Cross-Validation Accuracy Scores: [0.81776133 0.82269504 0.81591119 0.82146161 0.82973473]\n",
            "\n",
            "Min:  0.815911\n",
            "Max:  0.829735\n",
            "Mean:  0.821513\n",
            "Range:  0.013824\n"
          ]
        }
      ],
      "source": [
        "# Logistic Regression TF-IDF baseline evaluation\n",
        "evaluation(y_test, y_lg_base_tfidf)\n",
        "cross_validation(lg_tfidf, X_train_tfidf, y_train, 5)"
      ]
    },
    {
      "cell_type": "markdown",
      "metadata": {
        "id": "Z-r8p2o9zvT3"
      },
      "source": [
        "As we can see, TF-IDF vecotorizer was able to improve our model compared to CountVectorizer. The  was accuracy 0.8170. Let's compare all the models."
      ]
    },
    {
      "cell_type": "code",
      "execution_count": null,
      "metadata": {
        "ExecuteTime": {
          "end_time": "2021-01-05T21:10:05.830085Z",
          "start_time": "2021-01-05T21:10:05.781598Z"
        },
        "scrolled": true,
        "id": "R9o9J789zvT3",
        "outputId": "f098de93-3709-4fb0-9097-3426cab7e051"
      },
      "outputs": [
        {
          "data": {
            "text/html": [
              "<div>\n",
              "<style scoped>\n",
              "    .dataframe tbody tr th:only-of-type {\n",
              "        vertical-align: middle;\n",
              "    }\n",
              "\n",
              "    .dataframe tbody tr th {\n",
              "        vertical-align: top;\n",
              "    }\n",
              "\n",
              "    .dataframe thead th {\n",
              "        text-align: right;\n",
              "    }\n",
              "</style>\n",
              "<table border=\"1\" class=\"dataframe\">\n",
              "  <thead>\n",
              "    <tr style=\"text-align: right;\">\n",
              "      <th></th>\n",
              "      <th>Accuracy</th>\n",
              "      <th>Precision</th>\n",
              "      <th>Recall</th>\n",
              "      <th>F1 Score</th>\n",
              "    </tr>\n",
              "  </thead>\n",
              "  <tbody>\n",
              "    <tr>\n",
              "      <th>Vanila Log Reg TF-IDF</th>\n",
              "      <td>0.817021</td>\n",
              "      <td>0.848194</td>\n",
              "      <td>0.787933</td>\n",
              "      <td>0.816954</td>\n",
              "    </tr>\n",
              "    <tr>\n",
              "      <th>Vanilla Random Forest CV</th>\n",
              "      <td>0.803885</td>\n",
              "      <td>0.843664</td>\n",
              "      <td>0.762942</td>\n",
              "      <td>0.801275</td>\n",
              "    </tr>\n",
              "    <tr>\n",
              "      <th>Vanilla Random Forest TF-IDF</th>\n",
              "      <td>0.801665</td>\n",
              "      <td>0.844285</td>\n",
              "      <td>0.756873</td>\n",
              "      <td>0.798193</td>\n",
              "    </tr>\n",
              "    <tr>\n",
              "      <th>Vanilla Logisitic Regression CV</th>\n",
              "      <td>0.798150</td>\n",
              "      <td>0.810458</td>\n",
              "      <td>0.796858</td>\n",
              "      <td>0.803600</td>\n",
              "    </tr>\n",
              "    <tr>\n",
              "      <th>Vanilla SVC CV</th>\n",
              "      <td>0.783904</td>\n",
              "      <td>0.794234</td>\n",
              "      <td>0.786862</td>\n",
              "      <td>0.790531</td>\n",
              "    </tr>\n",
              "    <tr>\n",
              "      <th>Vanilla Naive Bayes CV</th>\n",
              "      <td>0.781129</td>\n",
              "      <td>0.793541</td>\n",
              "      <td>0.780793</td>\n",
              "      <td>0.787115</td>\n",
              "    </tr>\n",
              "  </tbody>\n",
              "</table>\n",
              "</div>"
            ],
            "text/plain": [
              "                                 Accuracy  Precision    Recall  F1 Score\n",
              "Vanila Log Reg TF-IDF            0.817021   0.848194  0.787933  0.816954\n",
              "Vanilla Random Forest CV         0.803885   0.843664  0.762942  0.801275\n",
              "Vanilla Random Forest TF-IDF     0.801665   0.844285  0.756873  0.798193\n",
              "Vanilla Logisitic Regression CV  0.798150   0.810458  0.796858  0.803600\n",
              "Vanilla SVC CV                   0.783904   0.794234  0.786862  0.790531\n",
              "Vanilla Naive Bayes CV           0.781129   0.793541  0.780793  0.787115"
            ]
          },
          "execution_count": 37,
          "metadata": {},
          "output_type": "execute_result"
        }
      ],
      "source": [
        "tfidf_models = pd.read_csv('csv/baseline-models_tfidf.csv', index_col=0)\n",
        "tfidf_models.sort_values(by='Accuracy', ascending=False)"
      ]
    },
    {
      "cell_type": "markdown",
      "metadata": {
        "id": "217344YQzvT3"
      },
      "source": [
        "Most of the vectorized training set had a better performance using TF-IDF performed better than CountVectorizer. The best model was was Logistic Regression using TF-IDF. It had an accuracy of 0.817 and an F1 Score of 0.8169. Looking at the cross-validation results, we can see that the model performed similartly across different folds. Having Logistic Regression as the best moel is great because we will be able to extract the most important features for both negative and positive predictions.\n",
        "\n",
        "I also iterate Ensemble Models to find the best parameters. I was able to improve the best vanilla Logistic Regression model using GridSearch. Check the <a href='https://github.com/Ismaeltrevi/hotel-reviews-analysis-using-nlp/blob/main/models/ensemble-models.ipynb'>Ensemble Models</a> for more information about the process."
      ]
    },
    {
      "cell_type": "markdown",
      "metadata": {
        "ExecuteTime": {
          "end_time": "2020-12-24T17:27:10.645838Z",
          "start_time": "2020-12-24T17:27:10.641382Z"
        },
        "id": "CDg4UDfrzvT3"
      },
      "source": [
        "## Final Model\n",
        "\n",
        "Logistic Regression was the best model with the highest accuracy and F1 Score between all the models. I was able to improve it a little bit using GridSearch. Let's see the result."
      ]
    },
    {
      "cell_type": "code",
      "execution_count": null,
      "metadata": {
        "ExecuteTime": {
          "end_time": "2021-01-05T21:10:07.205763Z",
          "start_time": "2021-01-05T21:10:05.832072Z"
        },
        "id": "oU2sCkN2zvT3"
      },
      "outputs": [],
      "source": [
        "# Instantiating baseline Logistic Regression Model\n",
        "lg_grid = LogisticRegression(C= 0.615848211066026, penalty='l2', warm_start=True)\n",
        "\n",
        "# Fitting the model to the X and y variables of the train set\n",
        "lg_grid.fit(X_train_tfidf, y_train) \n",
        "\n",
        "# Predicting the model in the X variable of the test set\n",
        "y_pred_final = lg_grid.predict(X_test_tfidf)"
      ]
    },
    {
      "cell_type": "code",
      "execution_count": null,
      "metadata": {
        "ExecuteTime": {
          "end_time": "2021-01-05T21:10:50.344015Z",
          "start_time": "2021-01-05T21:10:07.208121Z"
        },
        "id": "vp07Nt4IzvT4",
        "outputId": "606c1cbe-d909-4d76-a1a6-9b13287590e1"
      },
      "outputs": [
        {
          "name": "stdout",
          "output_type": "stream",
          "text": [
            "Evaluation Metrics:\n",
            "Accuracy: 0.8183163737280296\n",
            "Precision: 0.8515655199072284\n",
            "Recall: 0.7865048197072474\n",
            "F1 Score: 0.8177431328878989\n",
            "Cross-Validation Accuracy Scores: [0.81529448 0.82454517 0.81652791 0.82331175 0.82695867]\n",
            "\n",
            "Min:  0.815294\n",
            "Max:  0.826959\n",
            "Mean:  0.821328\n",
            "Range:  0.011664\n"
          ]
        }
      ],
      "source": [
        "# Logistic Regression TF-IDF baseline evaluation\n",
        "evaluation(y_test, y_pred_final)\n",
        "cross_validation(lg_grid, X_train_tfidf, y_train, 5)"
      ]
    },
    {
      "cell_type": "markdown",
      "metadata": {
        "id": "Usmws4ZuzvT4"
      },
      "source": [
        "As we can see, the model improved a tiny bit in every metric. Although the improvement is very small, it's still an improvement. "
      ]
    },
    {
      "cell_type": "code",
      "execution_count": null,
      "metadata": {
        "ExecuteTime": {
          "end_time": "2021-01-06T00:14:14.316646Z",
          "start_time": "2021-01-06T00:14:13.425807Z"
        },
        "id": "k2VlAhIXzvT4",
        "outputId": "4cbe1780-764e-4e0d-b8ae-903b16a8987d"
      },
      "outputs": [
        {
          "data": {
            "image/png": "[encoded data removed]",
            "text/plain": [
              "<Figure size 432x504 with 1 Axes>"
            ]
          },
          "metadata": {},
          "output_type": "display_data"
        }
      ],
      "source": [
        "# Plotting a confusion matrix\n",
        "plt.figure(figsize=(6, 7))\n",
        "mat = confusion_matrix(y_test, y_pred_final)\n",
        "\n",
        "sns.heatmap(mat.T, square=True, annot=True, fmt='d', cbar=False,\n",
        "            xticklabels=['Negative', 'Positive'], yticklabels=['Negative', 'Positive'], cmap=\"Blues\")\n",
        "sns.set(font_scale=1.0)\n",
        "plt.xlabel('True Label', fontsize= 20)\n",
        "plt.ylabel('Predicted Label', fontsize= 20)\n",
        "plt.title('Final Model Confusion Matrix', fontsize=20)\n",
        "plt.xticks(fontsize=18)\n",
        "plt.yticks(fontsize=18)\n",
        "plt.savefig('images/confusion-matrix-final-model_2.png', bbox_inches = \"tight\", pad_inches=.5, dpi=300)\n",
        "plt.show()"
      ]
    },
    {
      "cell_type": "markdown",
      "metadata": {
        "id": "p-oE64RNzvT4"
      },
      "source": [
        "Looking at the confusion matrix, we can see that the model needs improvements classifying Positive reviews, since it has a higher number of False Negatives compared to False Positives. Overall, the model performs well, but it has plenty of room for improvement for next steps of this project. Now, let's take a look at the 50most important features for each class using ELI5."
      ]
    },
    {
      "cell_type": "code",
      "execution_count": null,
      "metadata": {
        "ExecuteTime": {
          "end_time": "2021-01-06T00:28:23.301128Z",
          "start_time": "2021-01-06T00:28:23.279380Z"
        },
        "scrolled": false,
        "id": "ipnwXDCCzvT4",
        "outputId": "e11b6158-6249-4166-f85f-006cc885f094"
      },
      "outputs": [
        {
          "data": {
            "text/html": [
              "\n",
              "    <style>\n",
              "    table.eli5-weights tr:hover {\n",
              "        filter: brightness(85%);\n",
              "    }\n",
              "</style>\n",
              "\n",
              "\n",
              "\n",
              "    \n",
              "\n",
              "    \n",
              "\n",
              "    \n",
              "\n",
              "    \n",
              "\n",
              "    \n",
              "\n",
              "    \n",
              "\n",
              "\n",
              "    \n",
              "\n",
              "    \n",
              "\n",
              "    \n",
              "\n",
              "    \n",
              "        \n",
              "\n",
              "    \n",
              "\n",
              "        \n",
              "            \n",
              "                \n",
              "                \n",
              "    \n",
              "        <p style=\"margin-bottom: 0.5em; margin-top: 0em\">\n",
              "            <b>\n",
              "    \n",
              "        y=1\n",
              "    \n",
              "</b>\n",
              "\n",
              "top features\n",
              "        </p>\n",
              "    \n",
              "    <table class=\"eli5-weights\"\n",
              "           style=\"border-collapse: collapse; border: none; margin-top: 0em; table-layout: auto; margin-bottom: 2em;\">\n",
              "        <thead>\n",
              "        <tr style=\"border: none;\">\n",
              "            \n",
              "                <th style=\"padding: 0 1em 0 0.5em; text-align: right; border: none;\" title=\"Feature weights. Note that weights do not account for feature value scales, so if feature values have different scales, features with highest weights might not be the most important.\">\n",
              "                    Weight<sup>?</sup>\n",
              "                </th>\n",
              "            \n",
              "            <th style=\"padding: 0 0.5em 0 0.5em; text-align: left; border: none;\">Feature</th>\n",
              "            \n",
              "        </tr>\n",
              "        </thead>\n",
              "        <tbody>\n",
              "        \n",
              "            <tr style=\"background-color: hsl(120, 100.00%, 80.00%); border: none;\">\n",
              "    <td style=\"padding: 0 1em 0 0.5em; text-align: right; border: none;\">\n",
              "        +6.092\n",
              "    </td>\n",
              "    <td style=\"padding: 0 0.5em 0 0.5em; text-align: left; border: none;\">\n",
              "        excellent\n",
              "    </td>\n",
              "    \n",
              "</tr>\n",
              "        \n",
              "            <tr style=\"background-color: hsl(120, 100.00%, 81.93%); border: none;\">\n",
              "    <td style=\"padding: 0 1em 0 0.5em; text-align: right; border: none;\">\n",
              "        +5.270\n",
              "    </td>\n",
              "    <td style=\"padding: 0 0.5em 0 0.5em; text-align: left; border: none;\">\n",
              "        great\n",
              "    </td>\n",
              "    \n",
              "</tr>\n",
              "        \n",
              "            <tr style=\"background-color: hsl(120, 100.00%, 82.38%); border: none;\">\n",
              "    <td style=\"padding: 0 1em 0 0.5em; text-align: right; border: none;\">\n",
              "        +5.082\n",
              "    </td>\n",
              "    <td style=\"padding: 0 0.5em 0 0.5em; text-align: left; border: none;\">\n",
              "        amazing\n",
              "    </td>\n",
              "    \n",
              "</tr>\n",
              "        \n",
              "            <tr style=\"background-color: hsl(120, 100.00%, 82.56%); border: none;\">\n",
              "    <td style=\"padding: 0 1em 0 0.5em; text-align: right; border: none;\">\n",
              "        +5.010\n",
              "    </td>\n",
              "    <td style=\"padding: 0 0.5em 0 0.5em; text-align: left; border: none;\">\n",
              "        comfortable\n",
              "    </td>\n",
              "    \n",
              "</tr>\n",
              "        \n",
              "            <tr style=\"background-color: hsl(120, 100.00%, 83.71%); border: none;\">\n",
              "    <td style=\"padding: 0 1em 0 0.5em; text-align: right; border: none;\">\n",
              "        +4.544\n",
              "    </td>\n",
              "    <td style=\"padding: 0 0.5em 0 0.5em; text-align: left; border: none;\">\n",
              "        lovely\n",
              "    </td>\n",
              "    \n",
              "</tr>\n",
              "        \n",
              "            <tr style=\"background-color: hsl(120, 100.00%, 84.53%); border: none;\">\n",
              "    <td style=\"padding: 0 1em 0 0.5em; text-align: right; border: none;\">\n",
              "        +4.222\n",
              "    </td>\n",
              "    <td style=\"padding: 0 0.5em 0 0.5em; text-align: left; border: none;\">\n",
              "        bit\n",
              "    </td>\n",
              "    \n",
              "</tr>\n",
              "        \n",
              "            <tr style=\"background-color: hsl(120, 100.00%, 84.71%); border: none;\">\n",
              "    <td style=\"padding: 0 1em 0 0.5em; text-align: right; border: none;\">\n",
              "        +4.150\n",
              "    </td>\n",
              "    <td style=\"padding: 0 0.5em 0 0.5em; text-align: left; border: none;\">\n",
              "        perfect\n",
              "    </td>\n",
              "    \n",
              "</tr>\n",
              "        \n",
              "            <tr style=\"background-color: hsl(120, 100.00%, 85.57%); border: none;\">\n",
              "    <td style=\"padding: 0 1em 0 0.5em; text-align: right; border: none;\">\n",
              "        +3.823\n",
              "    </td>\n",
              "    <td style=\"padding: 0 0.5em 0 0.5em; text-align: left; border: none;\">\n",
              "        spacious\n",
              "    </td>\n",
              "    \n",
              "</tr>\n",
              "        \n",
              "            <tr style=\"background-color: hsl(120, 100.00%, 85.58%); border: none;\">\n",
              "    <td style=\"padding: 0 1em 0 0.5em; text-align: right; border: none;\">\n",
              "        +3.818\n",
              "    </td>\n",
              "    <td style=\"padding: 0 0.5em 0 0.5em; text-align: left; border: none;\">\n",
              "        loved\n",
              "    </td>\n",
              "    \n",
              "</tr>\n",
              "        \n",
              "            <tr style=\"background-color: hsl(120, 100.00%, 86.17%); border: none;\">\n",
              "    <td style=\"padding: 0 1em 0 0.5em; text-align: right; border: none;\">\n",
              "        +3.596\n",
              "    </td>\n",
              "    <td style=\"padding: 0 0.5em 0 0.5em; text-align: left; border: none;\">\n",
              "        friendly\n",
              "    </td>\n",
              "    \n",
              "</tr>\n",
              "        \n",
              "            <tr style=\"background-color: hsl(120, 100.00%, 86.68%); border: none;\">\n",
              "    <td style=\"padding: 0 1em 0 0.5em; text-align: right; border: none;\">\n",
              "        +3.407\n",
              "    </td>\n",
              "    <td style=\"padding: 0 0.5em 0 0.5em; text-align: left; border: none;\">\n",
              "        wonderful\n",
              "    </td>\n",
              "    \n",
              "</tr>\n",
              "        \n",
              "            <tr style=\"background-color: hsl(120, 100.00%, 87.20%); border: none;\">\n",
              "    <td style=\"padding: 0 1em 0 0.5em; text-align: right; border: none;\">\n",
              "        +3.221\n",
              "    </td>\n",
              "    <td style=\"padding: 0 0.5em 0 0.5em; text-align: left; border: none;\">\n",
              "        fantastic\n",
              "    </td>\n",
              "    \n",
              "</tr>\n",
              "        \n",
              "            <tr style=\"background-color: hsl(120, 100.00%, 87.93%); border: none;\">\n",
              "    <td style=\"padding: 0 1em 0 0.5em; text-align: right; border: none;\">\n",
              "        +2.963\n",
              "    </td>\n",
              "    <td style=\"padding: 0 0.5em 0 0.5em; text-align: left; border: none;\">\n",
              "        quiet\n",
              "    </td>\n",
              "    \n",
              "</tr>\n",
              "        \n",
              "            <tr style=\"background-color: hsl(120, 100.00%, 88.00%); border: none;\">\n",
              "    <td style=\"padding: 0 1em 0 0.5em; text-align: right; border: none;\">\n",
              "        +2.935\n",
              "    </td>\n",
              "    <td style=\"padding: 0 0.5em 0 0.5em; text-align: left; border: none;\">\n",
              "        brilliant\n",
              "    </td>\n",
              "    \n",
              "</tr>\n",
              "        \n",
              "            <tr style=\"background-color: hsl(120, 100.00%, 88.12%); border: none;\">\n",
              "    <td style=\"padding: 0 1em 0 0.5em; text-align: right; border: none;\">\n",
              "        +2.896\n",
              "    </td>\n",
              "    <td style=\"padding: 0 0.5em 0 0.5em; text-align: left; border: none;\">\n",
              "        superb\n",
              "    </td>\n",
              "    \n",
              "</tr>\n",
              "        \n",
              "            <tr style=\"background-color: hsl(120, 100.00%, 88.73%); border: none;\">\n",
              "    <td style=\"padding: 0 1em 0 0.5em; text-align: right; border: none;\">\n",
              "        +2.685\n",
              "    </td>\n",
              "    <td style=\"padding: 0 0.5em 0 0.5em; text-align: left; border: none;\">\n",
              "        nice\n",
              "    </td>\n",
              "    \n",
              "</tr>\n",
              "        \n",
              "            <tr style=\"background-color: hsl(120, 100.00%, 88.76%); border: none;\">\n",
              "    <td style=\"padding: 0 1em 0 0.5em; text-align: right; border: none;\">\n",
              "        +2.674\n",
              "    </td>\n",
              "    <td style=\"padding: 0 0.5em 0 0.5em; text-align: left; border: none;\">\n",
              "        negative\n",
              "    </td>\n",
              "    \n",
              "</tr>\n",
              "        \n",
              "            <tr style=\"background-color: hsl(120, 100.00%, 88.95%); border: none;\">\n",
              "    <td style=\"padding: 0 1em 0 0.5em; text-align: right; border: none;\">\n",
              "        +2.610\n",
              "    </td>\n",
              "    <td style=\"padding: 0 0.5em 0 0.5em; text-align: left; border: none;\">\n",
              "        come\n",
              "    </td>\n",
              "    \n",
              "</tr>\n",
              "        \n",
              "            <tr style=\"background-color: hsl(120, 100.00%, 89.10%); border: none;\">\n",
              "    <td style=\"padding: 0 1em 0 0.5em; text-align: right; border: none;\">\n",
              "        +2.560\n",
              "    </td>\n",
              "    <td style=\"padding: 0 0.5em 0 0.5em; text-align: left; border: none;\">\n",
              "        beautiful\n",
              "    </td>\n",
              "    \n",
              "</tr>\n",
              "        \n",
              "            <tr style=\"background-color: hsl(120, 100.00%, 89.33%); border: none;\">\n",
              "    <td style=\"padding: 0 1em 0 0.5em; text-align: right; border: none;\">\n",
              "        +2.482\n",
              "    </td>\n",
              "    <td style=\"padding: 0 0.5em 0 0.5em; text-align: left; border: none;\">\n",
              "        modern\n",
              "    </td>\n",
              "    \n",
              "</tr>\n",
              "        \n",
              "            <tr style=\"background-color: hsl(120, 100.00%, 89.51%); border: none;\">\n",
              "    <td style=\"padding: 0 1em 0 0.5em; text-align: right; border: none;\">\n",
              "        +2.424\n",
              "    </td>\n",
              "    <td style=\"padding: 0 0.5em 0 0.5em; text-align: left; border: none;\">\n",
              "        helpful\n",
              "    </td>\n",
              "    \n",
              "</tr>\n",
              "        \n",
              "            <tr style=\"background-color: hsl(120, 100.00%, 89.99%); border: none;\">\n",
              "    <td style=\"padding: 0 1em 0 0.5em; text-align: right; border: none;\">\n",
              "        +2.266\n",
              "    </td>\n",
              "    <td style=\"padding: 0 0.5em 0 0.5em; text-align: left; border: none;\">\n",
              "        little\n",
              "    </td>\n",
              "    \n",
              "</tr>\n",
              "        \n",
              "            <tr style=\"background-color: hsl(120, 100.00%, 90.09%); border: none;\">\n",
              "    <td style=\"padding: 0 1em 0 0.5em; text-align: right; border: none;\">\n",
              "        +2.235\n",
              "    </td>\n",
              "    <td style=\"padding: 0 0.5em 0 0.5em; text-align: left; border: none;\">\n",
              "        large\n",
              "    </td>\n",
              "    \n",
              "</tr>\n",
              "        \n",
              "            <tr style=\"background-color: hsl(120, 100.00%, 90.09%); border: none;\">\n",
              "    <td style=\"padding: 0 1em 0 0.5em; text-align: right; border: none;\">\n",
              "        +2.234\n",
              "    </td>\n",
              "    <td style=\"padding: 0 0.5em 0 0.5em; text-align: left; border: none;\">\n",
              "        fabulous\n",
              "    </td>\n",
              "    \n",
              "</tr>\n",
              "        \n",
              "            <tr style=\"background-color: hsl(120, 100.00%, 91.01%); border: none;\">\n",
              "    <td style=\"padding: 0 1em 0 0.5em; text-align: right; border: none;\">\n",
              "        +1.944\n",
              "    </td>\n",
              "    <td style=\"padding: 0 0.5em 0 0.5em; text-align: left; border: none;\">\n",
              "        cooked\n",
              "    </td>\n",
              "    \n",
              "</tr>\n",
              "        \n",
              "            <tr style=\"background-color: hsl(120, 100.00%, 91.06%); border: none;\">\n",
              "    <td style=\"padding: 0 1em 0 0.5em; text-align: right; border: none;\">\n",
              "        +1.927\n",
              "    </td>\n",
              "    <td style=\"padding: 0 0.5em 0 0.5em; text-align: left; border: none;\">\n",
              "        liked\n",
              "    </td>\n",
              "    \n",
              "</tr>\n",
              "        \n",
              "            <tr style=\"background-color: hsl(120, 100.00%, 91.18%); border: none;\">\n",
              "    <td style=\"padding: 0 1em 0 0.5em; text-align: right; border: none;\">\n",
              "        +1.892\n",
              "    </td>\n",
              "    <td style=\"padding: 0 0.5em 0 0.5em; text-align: left; border: none;\">\n",
              "        love\n",
              "    </td>\n",
              "    \n",
              "</tr>\n",
              "        \n",
              "            <tr style=\"background-color: hsl(120, 100.00%, 91.39%); border: none;\">\n",
              "    <td style=\"padding: 0 1em 0 0.5em; text-align: right; border: none;\">\n",
              "        +1.829\n",
              "    </td>\n",
              "    <td style=\"padding: 0 0.5em 0 0.5em; text-align: left; border: none;\">\n",
              "        good\n",
              "    </td>\n",
              "    \n",
              "</tr>\n",
              "        \n",
              "        \n",
              "            <tr style=\"background-color: hsl(120, 100.00%, 91.39%); border: none;\">\n",
              "                <td colspan=\"2\" style=\"padding: 0 0.5em 0 0.5em; text-align: center; border: none; white-space: nowrap;\">\n",
              "                    <i>&hellip; 4588 more positive &hellip;</i>\n",
              "                </td>\n",
              "            </tr>\n",
              "        \n",
              "\n",
              "        \n",
              "            <tr style=\"background-color: hsl(0, 100.00%, 91.38%); border: none;\">\n",
              "                <td colspan=\"2\" style=\"padding: 0 0.5em 0 0.5em; text-align: center; border: none; white-space: nowrap;\">\n",
              "                    <i>&hellip; 6133 more negative &hellip;</i>\n",
              "                </td>\n",
              "            </tr>\n",
              "        \n",
              "        \n",
              "            <tr style=\"background-color: hsl(0, 100.00%, 91.38%); border: none;\">\n",
              "    <td style=\"padding: 0 1em 0 0.5em; text-align: right; border: none;\">\n",
              "        -1.831\n",
              "    </td>\n",
              "    <td style=\"padding: 0 0.5em 0 0.5em; text-align: left; border: none;\">\n",
              "        cleaned\n",
              "    </td>\n",
              "    \n",
              "</tr>\n",
              "        \n",
              "            <tr style=\"background-color: hsl(0, 100.00%, 91.18%); border: none;\">\n",
              "    <td style=\"padding: 0 1em 0 0.5em; text-align: right; border: none;\">\n",
              "        -1.891\n",
              "    </td>\n",
              "    <td style=\"padding: 0 0.5em 0 0.5em; text-align: left; border: none;\">\n",
              "        poorly\n",
              "    </td>\n",
              "    \n",
              "</tr>\n",
              "        \n",
              "            <tr style=\"background-color: hsl(0, 100.00%, 90.93%); border: none;\">\n",
              "    <td style=\"padding: 0 1em 0 0.5em; text-align: right; border: none;\">\n",
              "        -1.970\n",
              "    </td>\n",
              "    <td style=\"padding: 0 0.5em 0 0.5em; text-align: left; border: none;\">\n",
              "        shabby\n",
              "    </td>\n",
              "    \n",
              "</tr>\n",
              "        \n",
              "            <tr style=\"background-color: hsl(0, 100.00%, 90.92%); border: none;\">\n",
              "    <td style=\"padding: 0 1em 0 0.5em; text-align: right; border: none;\">\n",
              "        -1.973\n",
              "    </td>\n",
              "    <td style=\"padding: 0 0.5em 0 0.5em; text-align: left; border: none;\">\n",
              "        webster\n",
              "    </td>\n",
              "    \n",
              "</tr>\n",
              "        \n",
              "            <tr style=\"background-color: hsl(0, 100.00%, 90.75%); border: none;\">\n",
              "    <td style=\"padding: 0 1em 0 0.5em; text-align: right; border: none;\">\n",
              "        -2.024\n",
              "    </td>\n",
              "    <td style=\"padding: 0 0.5em 0 0.5em; text-align: left; border: none;\">\n",
              "        working\n",
              "    </td>\n",
              "    \n",
              "</tr>\n",
              "        \n",
              "            <tr style=\"background-color: hsl(0, 100.00%, 90.75%); border: none;\">\n",
              "    <td style=\"padding: 0 1em 0 0.5em; text-align: right; border: none;\">\n",
              "        -2.026\n",
              "    </td>\n",
              "    <td style=\"padding: 0 0.5em 0 0.5em; text-align: left; border: none;\">\n",
              "        smell\n",
              "    </td>\n",
              "    \n",
              "</tr>\n",
              "        \n",
              "            <tr style=\"background-color: hsl(0, 100.00%, 90.70%); border: none;\">\n",
              "    <td style=\"padding: 0 1em 0 0.5em; text-align: right; border: none;\">\n",
              "        -2.040\n",
              "    </td>\n",
              "    <td style=\"padding: 0 0.5em 0 0.5em; text-align: left; border: none;\">\n",
              "        dusty\n",
              "    </td>\n",
              "    \n",
              "</tr>\n",
              "        \n",
              "            <tr style=\"background-color: hsl(0, 100.00%, 90.63%); border: none;\">\n",
              "    <td style=\"padding: 0 1em 0 0.5em; text-align: right; border: none;\">\n",
              "        -2.064\n",
              "    </td>\n",
              "    <td style=\"padding: 0 0.5em 0 0.5em; text-align: left; border: none;\">\n",
              "        attitude\n",
              "    </td>\n",
              "    \n",
              "</tr>\n",
              "        \n",
              "            <tr style=\"background-color: hsl(0, 100.00%, 90.62%); border: none;\">\n",
              "    <td style=\"padding: 0 1em 0 0.5em; text-align: right; border: none;\">\n",
              "        -2.066\n",
              "    </td>\n",
              "    <td style=\"padding: 0 0.5em 0 0.5em; text-align: left; border: none;\">\n",
              "        run\n",
              "    </td>\n",
              "    \n",
              "</tr>\n",
              "        \n",
              "            <tr style=\"background-color: hsl(0, 100.00%, 90.58%); border: none;\">\n",
              "    <td style=\"padding: 0 1em 0 0.5em; text-align: right; border: none;\">\n",
              "        -2.077\n",
              "    </td>\n",
              "    <td style=\"padding: 0 0.5em 0 0.5em; text-align: left; border: none;\">\n",
              "        work\n",
              "    </td>\n",
              "    \n",
              "</tr>\n",
              "        \n",
              "            <tr style=\"background-color: hsl(0, 100.00%, 90.45%); border: none;\">\n",
              "    <td style=\"padding: 0 1em 0 0.5em; text-align: right; border: none;\">\n",
              "        -2.118\n",
              "    </td>\n",
              "    <td style=\"padding: 0 0.5em 0 0.5em; text-align: left; border: none;\">\n",
              "        tiny\n",
              "    </td>\n",
              "    \n",
              "</tr>\n",
              "        \n",
              "            <tr style=\"background-color: hsl(0, 100.00%, 90.41%); border: none;\">\n",
              "    <td style=\"padding: 0 1em 0 0.5em; text-align: right; border: none;\">\n",
              "        -2.133\n",
              "    </td>\n",
              "    <td style=\"padding: 0 0.5em 0 0.5em; text-align: left; border: none;\">\n",
              "        dated\n",
              "    </td>\n",
              "    \n",
              "</tr>\n",
              "        \n",
              "            <tr style=\"background-color: hsl(0, 100.00%, 90.16%); border: none;\">\n",
              "    <td style=\"padding: 0 1em 0 0.5em; text-align: right; border: none;\">\n",
              "        -2.211\n",
              "    </td>\n",
              "    <td style=\"padding: 0 0.5em 0 0.5em; text-align: left; border: none;\">\n",
              "        management\n",
              "    </td>\n",
              "    \n",
              "</tr>\n",
              "        \n",
              "            <tr style=\"background-color: hsl(0, 100.00%, 90.09%); border: none;\">\n",
              "    <td style=\"padding: 0 1em 0 0.5em; text-align: right; border: none;\">\n",
              "        -2.234\n",
              "    </td>\n",
              "    <td style=\"padding: 0 0.5em 0 0.5em; text-align: left; border: none;\">\n",
              "        broken\n",
              "    </td>\n",
              "    \n",
              "</tr>\n",
              "        \n",
              "            <tr style=\"background-color: hsl(0, 100.00%, 90.04%); border: none;\">\n",
              "    <td style=\"padding: 0 1em 0 0.5em; text-align: right; border: none;\">\n",
              "        -2.252\n",
              "    </td>\n",
              "    <td style=\"padding: 0 0.5em 0 0.5em; text-align: left; border: none;\">\n",
              "        charged\n",
              "    </td>\n",
              "    \n",
              "</tr>\n",
              "        \n",
              "            <tr style=\"background-color: hsl(0, 100.00%, 89.50%); border: none;\">\n",
              "    <td style=\"padding: 0 1em 0 0.5em; text-align: right; border: none;\">\n",
              "        -2.428\n",
              "    </td>\n",
              "    <td style=\"padding: 0 0.5em 0 0.5em; text-align: left; border: none;\">\n",
              "        unfriendly\n",
              "    </td>\n",
              "    \n",
              "</tr>\n",
              "        \n",
              "            <tr style=\"background-color: hsl(0, 100.00%, 89.11%); border: none;\">\n",
              "    <td style=\"padding: 0 1em 0 0.5em; text-align: right; border: none;\">\n",
              "        -2.556\n",
              "    </td>\n",
              "    <td style=\"padding: 0 0.5em 0 0.5em; text-align: left; border: none;\">\n",
              "        awful\n",
              "    </td>\n",
              "    \n",
              "</tr>\n",
              "        \n",
              "            <tr style=\"background-color: hsl(0, 100.00%, 88.89%); border: none;\">\n",
              "    <td style=\"padding: 0 1em 0 0.5em; text-align: right; border: none;\">\n",
              "        -2.631\n",
              "    </td>\n",
              "    <td style=\"padding: 0 0.5em 0 0.5em; text-align: left; border: none;\">\n",
              "        overpriced\n",
              "    </td>\n",
              "    \n",
              "</tr>\n",
              "        \n",
              "            <tr style=\"background-color: hsl(0, 100.00%, 88.69%); border: none;\">\n",
              "    <td style=\"padding: 0 1em 0 0.5em; text-align: right; border: none;\">\n",
              "        -2.699\n",
              "    </td>\n",
              "    <td style=\"padding: 0 0.5em 0 0.5em; text-align: left; border: none;\">\n",
              "        paid\n",
              "    </td>\n",
              "    \n",
              "</tr>\n",
              "        \n",
              "            <tr style=\"background-color: hsl(0, 100.00%, 88.46%); border: none;\">\n",
              "    <td style=\"padding: 0 1em 0 0.5em; text-align: right; border: none;\">\n",
              "        -2.776\n",
              "    </td>\n",
              "    <td style=\"padding: 0 0.5em 0 0.5em; text-align: left; border: none;\">\n",
              "        money\n",
              "    </td>\n",
              "    \n",
              "</tr>\n",
              "        \n",
              "            <tr style=\"background-color: hsl(0, 100.00%, 88.39%); border: none;\">\n",
              "    <td style=\"padding: 0 1em 0 0.5em; text-align: right; border: none;\">\n",
              "        -2.801\n",
              "    </td>\n",
              "    <td style=\"padding: 0 0.5em 0 0.5em; text-align: left; border: none;\">\n",
              "        horrible\n",
              "    </td>\n",
              "    \n",
              "</tr>\n",
              "        \n",
              "            <tr style=\"background-color: hsl(0, 100.00%, 88.31%); border: none;\">\n",
              "    <td style=\"padding: 0 1em 0 0.5em; text-align: right; border: none;\">\n",
              "        -2.830\n",
              "    </td>\n",
              "    <td style=\"padding: 0 0.5em 0 0.5em; text-align: left; border: none;\">\n",
              "        star\n",
              "    </td>\n",
              "    \n",
              "</tr>\n",
              "        \n",
              "            <tr style=\"background-color: hsl(0, 100.00%, 88.27%); border: none;\">\n",
              "    <td style=\"padding: 0 1em 0 0.5em; text-align: right; border: none;\">\n",
              "        -2.843\n",
              "    </td>\n",
              "    <td style=\"padding: 0 0.5em 0 0.5em; text-align: left; border: none;\">\n",
              "        uncomfortable\n",
              "    </td>\n",
              "    \n",
              "</tr>\n",
              "        \n",
              "            <tr style=\"background-color: hsl(0, 100.00%, 88.20%); border: none;\">\n",
              "    <td style=\"padding: 0 1em 0 0.5em; text-align: right; border: none;\">\n",
              "        -2.865\n",
              "    </td>\n",
              "    <td style=\"padding: 0 0.5em 0 0.5em; text-align: left; border: none;\">\n",
              "        basic\n",
              "    </td>\n",
              "    \n",
              "</tr>\n",
              "        \n",
              "            <tr style=\"background-color: hsl(0, 100.00%, 87.52%); border: none;\">\n",
              "    <td style=\"padding: 0 1em 0 0.5em; text-align: right; border: none;\">\n",
              "        -3.105\n",
              "    </td>\n",
              "    <td style=\"padding: 0 0.5em 0 0.5em; text-align: left; border: none;\">\n",
              "        bad\n",
              "    </td>\n",
              "    \n",
              "</tr>\n",
              "        \n",
              "            <tr style=\"background-color: hsl(0, 100.00%, 87.24%); border: none;\">\n",
              "    <td style=\"padding: 0 1em 0 0.5em; text-align: right; border: none;\">\n",
              "        -3.208\n",
              "    </td>\n",
              "    <td style=\"padding: 0 0.5em 0 0.5em; text-align: left; border: none;\">\n",
              "        old\n",
              "    </td>\n",
              "    \n",
              "</tr>\n",
              "        \n",
              "            <tr style=\"background-color: hsl(0, 100.00%, 87.17%); border: none;\">\n",
              "    <td style=\"padding: 0 1em 0 0.5em; text-align: right; border: none;\">\n",
              "        -3.230\n",
              "    </td>\n",
              "    <td style=\"padding: 0 0.5em 0 0.5em; text-align: left; border: none;\">\n",
              "        tired\n",
              "    </td>\n",
              "    \n",
              "</tr>\n",
              "        \n",
              "            <tr style=\"background-color: hsl(0, 100.00%, 87.12%); border: none;\">\n",
              "    <td style=\"padding: 0 1em 0 0.5em; text-align: right; border: none;\">\n",
              "        -3.248\n",
              "    </td>\n",
              "    <td style=\"padding: 0 0.5em 0 0.5em; text-align: left; border: none;\">\n",
              "        worst\n",
              "    </td>\n",
              "    \n",
              "</tr>\n",
              "        \n",
              "            <tr style=\"background-color: hsl(0, 100.00%, 86.56%); border: none;\">\n",
              "    <td style=\"padding: 0 1em 0 0.5em; text-align: right; border: none;\">\n",
              "        -3.451\n",
              "    </td>\n",
              "    <td style=\"padding: 0 0.5em 0 0.5em; text-align: left; border: none;\">\n",
              "        poor\n",
              "    </td>\n",
              "    \n",
              "</tr>\n",
              "        \n",
              "            <tr style=\"background-color: hsl(0, 100.00%, 86.31%); border: none;\">\n",
              "    <td style=\"padding: 0 1em 0 0.5em; text-align: right; border: none;\">\n",
              "        -3.543\n",
              "    </td>\n",
              "    <td style=\"padding: 0 0.5em 0 0.5em; text-align: left; border: none;\">\n",
              "        terrible\n",
              "    </td>\n",
              "    \n",
              "</tr>\n",
              "        \n",
              "            <tr style=\"background-color: hsl(0, 100.00%, 84.39%); border: none;\">\n",
              "    <td style=\"padding: 0 1em 0 0.5em; text-align: right; border: none;\">\n",
              "        -4.277\n",
              "    </td>\n",
              "    <td style=\"padding: 0 0.5em 0 0.5em; text-align: left; border: none;\">\n",
              "        rude\n",
              "    </td>\n",
              "    \n",
              "</tr>\n",
              "        \n",
              "            <tr style=\"background-color: hsl(0, 100.00%, 81.84%); border: none;\">\n",
              "    <td style=\"padding: 0 1em 0 0.5em; text-align: right; border: none;\">\n",
              "        -5.308\n",
              "    </td>\n",
              "    <td style=\"padding: 0 0.5em 0 0.5em; text-align: left; border: none;\">\n",
              "        dirty\n",
              "    </td>\n",
              "    \n",
              "</tr>\n",
              "        \n",
              "\n",
              "        </tbody>\n",
              "    </table>\n",
              "\n",
              "            \n",
              "        \n",
              "\n",
              "        \n",
              "\n",
              "\n",
              "\n",
              "    \n",
              "\n",
              "    \n",
              "\n",
              "    \n",
              "\n",
              "    \n",
              "\n",
              "\n",
              "    \n",
              "\n",
              "    \n",
              "\n",
              "    \n",
              "\n",
              "    \n",
              "\n",
              "    \n",
              "\n",
              "    \n",
              "\n",
              "\n",
              "    \n",
              "\n",
              "    \n",
              "\n",
              "    \n",
              "\n",
              "    \n",
              "\n",
              "    \n",
              "\n",
              "    \n",
              "\n",
              "\n",
              "\n"
            ],
            "text/plain": [
              "Explanation(estimator='LogisticRegression()', description=\"\\nFeatures with largest coefficients.\\nCaveats:\\n1. Be careful with features which are not\\n   independent - weights don't show their importance.\\n2. If scale of input features is different then scale of coefficients\\n   will also be different, making direct comparison between coefficient values\\n   incorrect.\\n3. Depending on regularization, rare features sometimes may have high\\n   coefficients; this doesn't mean they contribute much to the\\n   classification result for most examples.\\n\", error=None, method='linear model', is_regression=False, targets=[TargetExplanation(target=1, feature_weights=FeatureWeights(pos=[FeatureWeight(feature='excellent', weight=6.092407815822656, std=None, value=None), FeatureWeight(feature='great', weight=5.27019513234399, std=None, value=None), FeatureWeight(feature='amazing', weight=5.0819905911646694, std=None, value=None), FeatureWeight(feature='comfortable', weight=5.00980012556402, std=None, value=None), FeatureWeight(feature='lovely', weight=4.5439398921096466, std=None, value=None), FeatureWeight(feature='bit', weight=4.222406619574978, std=None, value=None), FeatureWeight(feature='perfect', weight=4.150460373249136, std=None, value=None), FeatureWeight(feature='spacious', weight=3.823115533072874, std=None, value=None), FeatureWeight(feature='loved', weight=3.8184576065444293, std=None, value=None), FeatureWeight(feature='friendly', weight=3.595750817062964, std=None, value=None), FeatureWeight(feature='wonderful', weight=3.407176648336035, std=None, value=None), FeatureWeight(feature='fantastic', weight=3.2211391600526422, std=None, value=None), FeatureWeight(feature='quiet', weight=2.9627536500147675, std=None, value=None), FeatureWeight(feature='brilliant', weight=2.9350738487411694, std=None, value=None), FeatureWeight(feature='superb', weight=2.8961085366315107, std=None, value=None), FeatureWeight(feature='nice', weight=2.684675715731104, std=None, value=None), FeatureWeight(feature='negative', weight=2.6744216623977657, std=None, value=None), FeatureWeight(feature='come', weight=2.609931368401085, std=None, value=None), FeatureWeight(feature='beautiful', weight=2.55990437842863, std=None, value=None), FeatureWeight(feature='modern', weight=2.482068260475267, std=None, value=None), FeatureWeight(feature='helpful', weight=2.4242329973885677, std=None, value=None), FeatureWeight(feature='little', weight=2.26640331738448, std=None, value=None), FeatureWeight(feature='large', weight=2.2350838828347452, std=None, value=None), FeatureWeight(feature='fabulous', weight=2.2336391674777496, std=None, value=None), FeatureWeight(feature='cooked', weight=1.9437334806453843, std=None, value=None), FeatureWeight(feature='liked', weight=1.9271854101548203, std=None, value=None), FeatureWeight(feature='love', weight=1.891976475608818, std=None, value=None), FeatureWeight(feature='good', weight=1.829031768643276, std=None, value=None)], neg=[FeatureWeight(feature='dirty', weight=-5.308223724900761, std=None, value=None), FeatureWeight(feature='rude', weight=-4.277392964949601, std=None, value=None), FeatureWeight(feature='terrible', weight=-3.5434952063796383, std=None, value=None), FeatureWeight(feature='poor', weight=-3.4512390723038857, std=None, value=None), FeatureWeight(feature='worst', weight=-3.2482320612736544, std=None, value=None), FeatureWeight(feature='tired', weight=-3.2300761106281684, std=None, value=None), FeatureWeight(feature='old', weight=-3.20773710218206, std=None, value=None), FeatureWeight(feature='bad', weight=-3.1048947924899304, std=None, value=None), FeatureWeight(feature='basic', weight=-2.865366759567759, std=None, value=None), FeatureWeight(feature='uncomfortable', weight=-2.8426780366899678, std=None, value=None), FeatureWeight(feature='star', weight=-2.8302088587075205, std=None, value=None), FeatureWeight(feature='horrible', weight=-2.801417396933908, std=None, value=None), FeatureWeight(feature='money', weight=-2.776421436862209, std=None, value=None), FeatureWeight(feature='paid', weight=-2.6992303290348794, std=None, value=None), FeatureWeight(feature='overpriced', weight=-2.631227638929582, std=None, value=None), FeatureWeight(feature='awful', weight=-2.5557129276965123, std=None, value=None), FeatureWeight(feature='unfriendly', weight=-2.4282294025946416, std=None, value=None), FeatureWeight(feature='charged', weight=-2.251946176611073, std=None, value=None), FeatureWeight(feature='broken', weight=-2.234425968408633, std=None, value=None), FeatureWeight(feature='management', weight=-2.211411203463536, std=None, value=None), FeatureWeight(feature='dated', weight=-2.1333975630877644, std=None, value=None), FeatureWeight(feature='tiny', weight=-2.1178239538446855, std=None, value=None), FeatureWeight(feature='work', weight=-2.0770298161789276, std=None, value=None), FeatureWeight(feature='run', weight=-2.0659051168945672, std=None, value=None), FeatureWeight(feature='attitude', weight=-2.063739701983411, std=None, value=None), FeatureWeight(feature='dusty', weight=-2.039884455450589, std=None, value=None), FeatureWeight(feature='smell', weight=-2.0260010441134404, std=None, value=None), FeatureWeight(feature='working', weight=-2.0243794061546616, std=None, value=None), FeatureWeight(feature='webster', weight=-1.972799927440477, std=None, value=None), FeatureWeight(feature='shabby', weight=-1.9699581275679683, std=None, value=None), FeatureWeight(feature='poorly', weight=-1.8912332120992716, std=None, value=None), FeatureWeight(feature='cleaned', weight=-1.8306862682146734, std=None, value=None)], pos_remaining=4588, neg_remaining=6133), proba=None, score=None, weighted_spans=None, heatmap=None)], feature_importances=None, decision_tree=None, highlight_spaces=None, transition_features=None, image=None)"
            ]
          },
          "execution_count": 84,
          "metadata": {},
          "output_type": "execute_result"
        }
      ],
      "source": [
        "eli5.explain_weights(lg_tfidf, feature_names = X_train_tfidf.columns.values.tolist(), top=60)"
      ]
    },
    {
      "cell_type": "code",
      "execution_count": null,
      "metadata": {
        "ExecuteTime": {
          "end_time": "2021-01-05T21:28:03.067797Z",
          "start_time": "2021-01-05T21:28:03.026963Z"
        },
        "id": "HprVPZlkzvT4"
      },
      "outputs": [],
      "source": [
        "positive_features = pickle.load(open('pickle/positive_features.pkl', 'rb'))\n",
        "negative_features = pickle.load(open('pickle/negative_features.pkl', 'rb'))"
      ]
    },
    {
      "cell_type": "markdown",
      "metadata": {
        "id": "F6Ctk3d7zvT4"
      },
      "source": [
        "Above we can see the top 25 most important features for each class. The green section contains the features with the highest weight for the positive class and the red-ish contains the features with the highest weight for the negative class. For the negative class feature predictors, the lower the weight of the feature, the highest is the importance and for the positive class feature predictor, the higher the weight Let's analyze the results."
      ]
    },
    {
      "cell_type": "markdown",
      "metadata": {
        "id": "fZB4-8bEzvT4"
      },
      "source": [
        "### Top Features - Positive Class "
      ]
    },
    {
      "cell_type": "code",
      "execution_count": null,
      "metadata": {
        "ExecuteTime": {
          "end_time": "2021-01-05T21:57:05.934691Z",
          "start_time": "2021-01-05T21:57:05.910574Z"
        },
        "id": "Qq4xB_dnzvT4",
        "outputId": "46ed02e5-7bf9-49b0-dab5-9bf76cfc8cb0"
      },
      "outputs": [
        {
          "data": {
            "text/html": [
              "<div>\n",
              "<style scoped>\n",
              "    .dataframe tbody tr th:only-of-type {\n",
              "        vertical-align: middle;\n",
              "    }\n",
              "\n",
              "    .dataframe tbody tr th {\n",
              "        vertical-align: top;\n",
              "    }\n",
              "\n",
              "    .dataframe thead th {\n",
              "        text-align: right;\n",
              "    }\n",
              "</style>\n",
              "<table border=\"1\" class=\"dataframe\">\n",
              "  <thead>\n",
              "    <tr style=\"text-align: right;\">\n",
              "      <th></th>\n",
              "      <th>Excellent</th>\n",
              "      <th>Great</th>\n",
              "      <th>Amazing</th>\n",
              "      <th>Comfortable</th>\n",
              "      <th>Lovely</th>\n",
              "      <th>Bit</th>\n",
              "      <th>Perfect</th>\n",
              "      <th>Spacious</th>\n",
              "      <th>Loved</th>\n",
              "      <th>Friendly</th>\n",
              "      <th>Wonderful</th>\n",
              "      <th>Fantastic</th>\n",
              "      <th>Quiet</th>\n",
              "      <th>Brilliant</th>\n",
              "      <th>Superb</th>\n",
              "      <th>Nice</th>\n",
              "      <th>Negative</th>\n",
              "      <th>Come</th>\n",
              "      <th>Beautiful</th>\n",
              "      <th>Modern</th>\n",
              "      <th>Helpful</th>\n",
              "      <th>Little</th>\n",
              "      <th>Large</th>\n",
              "      <th>Fabulous</th>\n",
              "    </tr>\n",
              "  </thead>\n",
              "  <tbody>\n",
              "    <tr>\n",
              "      <th>0</th>\n",
              "      <td>6.092</td>\n",
              "      <td>5.27</td>\n",
              "      <td>5.082</td>\n",
              "      <td>5.01</td>\n",
              "      <td>4.544</td>\n",
              "      <td>4.222</td>\n",
              "      <td>4.15</td>\n",
              "      <td>3.823</td>\n",
              "      <td>3.818</td>\n",
              "      <td>3.596</td>\n",
              "      <td>3.407</td>\n",
              "      <td>3.221</td>\n",
              "      <td>2.963</td>\n",
              "      <td>2.935</td>\n",
              "      <td>2.896</td>\n",
              "      <td>2.685</td>\n",
              "      <td>2.674</td>\n",
              "      <td>2.61</td>\n",
              "      <td>2.56</td>\n",
              "      <td>2.482</td>\n",
              "      <td>2.424</td>\n",
              "      <td>2.266</td>\n",
              "      <td>2.235</td>\n",
              "      <td>2.234</td>\n",
              "    </tr>\n",
              "  </tbody>\n",
              "</table>\n",
              "</div>"
            ],
            "text/plain": [
              "   Excellent  Great  Amazing  Comfortable  Lovely    Bit  Perfect  Spacious  \\\n",
              "0      6.092   5.27    5.082         5.01   4.544  4.222     4.15     3.823   \n",
              "\n",
              "   Loved  Friendly  Wonderful  Fantastic  Quiet  Brilliant  Superb   Nice  \\\n",
              "0  3.818     3.596      3.407      3.221  2.963      2.935   2.896  2.685   \n",
              "\n",
              "   Negative  Come  Beautiful  Modern  Helpful  Little  Large  Fabulous  \n",
              "0     2.674  2.61       2.56   2.482    2.424   2.266  2.235     2.234  "
            ]
          },
          "execution_count": 75,
          "metadata": {},
          "output_type": "execute_result"
        }
      ],
      "source": [
        "positive_features.transpose()"
      ]
    },
    {
      "cell_type": "markdown",
      "metadata": {
        "id": "Bc2CaCJozvT4"
      },
      "source": [
        "The top features for predicting positive reviews weren't a surprise. Most of the features are adjectives that we can relate to positive reviews, such as excellent, great, and amazing. Although these words might not give much insight, some others are very related to hotels and can give us insights. Hotels should make sure that there are delivering this aspect to their guests. Let's check a few that I believe can carry insights:\n",
        "- Comfortable: The most important aspect of a hotel is comfortable, so the guest can rest\n",
        "- Bit: It doesn't carry much meaning\n",
        "- Spacious: It's good when a hotel has a spacious room\n",
        "- Friendly: It could be talking about how friendly the staff is, a very important aspect\n",
        "- Quiet: It seems like quiet places are something that guests are looking for\n",
        "- Negative: Although it is a negative word, I assume that the guests are saying that there isn't anything negative about the hotel\n",
        "- Modern: Modern hotels seem to be noticed in the reviews\n",
        "- Helpful: It's probably walking about the staff"
      ]
    },
    {
      "cell_type": "markdown",
      "metadata": {
        "id": "WQOOFpT-zvT4"
      },
      "source": [
        "### Top Features - Negative Class"
      ]
    },
    {
      "cell_type": "code",
      "execution_count": null,
      "metadata": {
        "ExecuteTime": {
          "end_time": "2021-01-06T00:36:28.093162Z",
          "start_time": "2021-01-06T00:36:28.080945Z"
        },
        "id": "cixqnLJfzvT4",
        "outputId": "233128dd-d355-4c03-eeec-29472b35a79c"
      },
      "outputs": [
        {
          "data": {
            "text/html": [
              "<div>\n",
              "<style scoped>\n",
              "    .dataframe tbody tr th:only-of-type {\n",
              "        vertical-align: middle;\n",
              "    }\n",
              "\n",
              "    .dataframe tbody tr th {\n",
              "        vertical-align: top;\n",
              "    }\n",
              "\n",
              "    .dataframe thead th {\n",
              "        text-align: right;\n",
              "    }\n",
              "</style>\n",
              "<table border=\"1\" class=\"dataframe\">\n",
              "  <thead>\n",
              "    <tr style=\"text-align: right;\">\n",
              "      <th></th>\n",
              "      <th>0</th>\n",
              "    </tr>\n",
              "  </thead>\n",
              "  <tbody>\n",
              "    <tr>\n",
              "      <th>Dirty</th>\n",
              "      <td>5.308</td>\n",
              "    </tr>\n",
              "    <tr>\n",
              "      <th>Rude</th>\n",
              "      <td>4.277</td>\n",
              "    </tr>\n",
              "    <tr>\n",
              "      <th>Terrible</th>\n",
              "      <td>3.543</td>\n",
              "    </tr>\n",
              "    <tr>\n",
              "      <th>Poor</th>\n",
              "      <td>3.451</td>\n",
              "    </tr>\n",
              "    <tr>\n",
              "      <th>Worst</th>\n",
              "      <td>3.248</td>\n",
              "    </tr>\n",
              "    <tr>\n",
              "      <th>Tired</th>\n",
              "      <td>3.230</td>\n",
              "    </tr>\n",
              "    <tr>\n",
              "      <th>Old</th>\n",
              "      <td>3.208</td>\n",
              "    </tr>\n",
              "    <tr>\n",
              "      <th>Bad</th>\n",
              "      <td>3.105</td>\n",
              "    </tr>\n",
              "    <tr>\n",
              "      <th>Basic</th>\n",
              "      <td>2.865</td>\n",
              "    </tr>\n",
              "    <tr>\n",
              "      <th>Uncomfortable</th>\n",
              "      <td>2.843</td>\n",
              "    </tr>\n",
              "    <tr>\n",
              "      <th>Star</th>\n",
              "      <td>2.830</td>\n",
              "    </tr>\n",
              "    <tr>\n",
              "      <th>Horrible</th>\n",
              "      <td>2.801</td>\n",
              "    </tr>\n",
              "    <tr>\n",
              "      <th>Money</th>\n",
              "      <td>2.776</td>\n",
              "    </tr>\n",
              "    <tr>\n",
              "      <th>Paid</th>\n",
              "      <td>2.699</td>\n",
              "    </tr>\n",
              "    <tr>\n",
              "      <th>Overpriced</th>\n",
              "      <td>2.631</td>\n",
              "    </tr>\n",
              "    <tr>\n",
              "      <th>Awful</th>\n",
              "      <td>2.556</td>\n",
              "    </tr>\n",
              "    <tr>\n",
              "      <th>Unfriendly</th>\n",
              "      <td>2.428</td>\n",
              "    </tr>\n",
              "    <tr>\n",
              "      <th>Charged</th>\n",
              "      <td>2.252</td>\n",
              "    </tr>\n",
              "    <tr>\n",
              "      <th>Broken</th>\n",
              "      <td>2.234</td>\n",
              "    </tr>\n",
              "    <tr>\n",
              "      <th>Management</th>\n",
              "      <td>2.211</td>\n",
              "    </tr>\n",
              "    <tr>\n",
              "      <th>Dated</th>\n",
              "      <td>2.133</td>\n",
              "    </tr>\n",
              "    <tr>\n",
              "      <th>Tiny</th>\n",
              "      <td>2.118</td>\n",
              "    </tr>\n",
              "    <tr>\n",
              "      <th>Work</th>\n",
              "      <td>2.077</td>\n",
              "    </tr>\n",
              "    <tr>\n",
              "      <th>Run</th>\n",
              "      <td>2.066</td>\n",
              "    </tr>\n",
              "    <tr>\n",
              "      <th>Attitude</th>\n",
              "      <td>2.064</td>\n",
              "    </tr>\n",
              "    <tr>\n",
              "      <th>Dusty</th>\n",
              "      <td>2.040</td>\n",
              "    </tr>\n",
              "  </tbody>\n",
              "</table>\n",
              "</div>"
            ],
            "text/plain": [
              "                   0\n",
              "Dirty          5.308\n",
              "Rude           4.277\n",
              "Terrible       3.543\n",
              "Poor           3.451\n",
              "Worst          3.248\n",
              "Tired          3.230\n",
              "Old            3.208\n",
              "Bad            3.105\n",
              "Basic          2.865\n",
              "Uncomfortable  2.843\n",
              "Star           2.830\n",
              "Horrible       2.801\n",
              "Money          2.776\n",
              "Paid           2.699\n",
              "Overpriced     2.631\n",
              "Awful          2.556\n",
              "Unfriendly     2.428\n",
              "Charged        2.252\n",
              "Broken         2.234\n",
              "Management     2.211\n",
              "Dated          2.133\n",
              "Tiny           2.118\n",
              "Work           2.077\n",
              "Run            2.066\n",
              "Attitude       2.064\n",
              "Dusty          2.040"
            ]
          },
          "execution_count": 85,
          "metadata": {},
          "output_type": "execute_result"
        }
      ],
      "source": [
        "negative_features.sort_values(by=0, ascending=False)"
      ]
    },
    {
      "cell_type": "markdown",
      "metadata": {
        "id": "4-oMow9vzvT4"
      },
      "source": [
        "When looking at the top features for the negative class predictor, we can find words that everyone could expect from negative reviews such as awful, horrible, and bad. However, with the negative class feature predictor, we can have more insights and areas that every hotel should consider as critical. It's interesting to see that dirty has a higher weight than overpriced and dated. \n",
        "Let's take a look at a few features:\n",
        "\n",
        "- Dirty: It's the most crucial feature when predicting negative reviews. This means that dirty is a giant red flag.\n",
        "- Rude: Probably talking about the staff, which means that the hotel needs improvement in training\n",
        "- Old: It's probably related to the hotel being outdated\n",
        "- Overpriced: This is obvious to me. If people pay more money than they think it's worth, they will complain.\n"
      ]
    },
    {
      "cell_type": "markdown",
      "metadata": {
        "id": "lqIGHinbzvT5"
      },
      "source": [
        "## Final Model Evaluation\n",
        "\n",
        "Logistic Regression was the final model for its high accuracy and showed the feature importance for each class. The accuracy was 0.8183, which means that the model can correctly classify the target variable 81.83% of the time. Looking at cross-validation, we can see that the model performed similarly in the train set. I used 5 folds, and the range difference between the highest accuracy and lowest accuracy was a very small difference.\n",
        "\n",
        "Looking at the confusion matrix, we can see that the overall performance is ok. However, it tends to predict more False Positives than False Negatives. There is definitely room for improvement as next steps."
      ]
    },
    {
      "cell_type": "markdown",
      "metadata": {
        "id": "R-RwfATvzvT5"
      },
      "source": [
        "# Final Recommendations\n",
        "\n",
        "All models were trained with the reviews of over 1,400 hotels. Thus, the model can be used for any hotel because it used over 515k reviews. Britannia International Hotel Canary Wharf can use our model to correctly classify reviews at any point. However, the most important takeaways here is the feature importance. Since guests tend to expect for the same things in every hotel, we learned that words such as staff, location, comfortable, and dirty will make have a higher value in their reviews. The words also match to the word cloud create for Britannia International Hotel Canary Wharf, which proves that the hotel, similarly to other, need to focus on those words.\n",
        "\n",
        "I recommend the hotel start using word clouds to get quick insights from negative and positive reviews. The negative reviews can be used to improve the business and should be used as soon as possible if the hotel wants to increase their overall score. The hotel should also use positive reviews can be used for advertisement, for example.\n",
        "\n",
        "## Conclusion\n",
        "\n",
        "- Machine learning can be used to identify positive and negative reviews correctly. However, identity with 100% confidence is difficult. My final model can be used for any hotel to find feature importance\n",
        "- Word clouds can be used to understand what words appear the most in negative and positive reviews. The management can quickly take a look and get insights out of it.\n",
        "- The Britannia International Hotel Canary Wharf performs poorly in the reviews compared to other hotels in London. There is a lot of room for improvement.\n",
        "\n",
        "## Next Steps:\n",
        "\n",
        "- Test the model in the whole data set as well as social media posts.\n",
        "- Create a recommendation system to the user based on reviews\n",
        "- Create a dashboard for guests and hotels easily get information about hotels.\n",
        "\n"
      ]
    }
  ],
  "metadata": {
    "kernelspec": {
      "display_name": "learn-env",
      "language": "python",
      "name": "learn-env"
    },
    "language_info": {
      "codemirror_mode": {
        "name": "ipython",
        "version": 3
      },
      "file_extension": ".py",
      "mimetype": "text/x-python",
      "name": "python",
      "nbconvert_exporter": "python",
      "pygments_lexer": "ipython3",
      "version": "3.6.9"
    },
    "toc": {
      "base_numbering": 1,
      "nav_menu": {},
      "number_sections": true,
      "sideBar": true,
      "skip_h1_title": false,
      "title_cell": "Table of Contents",
      "title_sidebar": "Contents",
      "toc_cell": false,
      "toc_position": {
        "height": "calc(100% - 180px)",
        "left": "10px",
        "top": "150px",
        "width": "222px"
      },
      "toc_section_display": true,
      "toc_window_display": false
    },
    "colab": {
      "name": "final-notebook.ipynb",
      "provenance": []
    }
  },
  "nbformat": 4,
  "nbformat_minor": 0
}